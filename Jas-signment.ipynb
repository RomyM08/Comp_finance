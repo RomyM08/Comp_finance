{
 "cells": [
  {
   "cell_type": "markdown",
   "metadata": {},
   "source": [
    "# Part 1: Option Valuation"
   ]
  },
  {
   "cell_type": "markdown",
   "metadata": {},
   "source": [
    "## Ex. 1: Binomial tree program to approximate the price of the option. \n",
    "How does your estimate compare to the analytical value? <br>\n",
    "Experiment for different values of the volatility"
   ]
  },
  {
   "cell_type": "code",
   "execution_count": 1,
   "metadata": {},
   "outputs": [],
   "source": [
    "import math\n",
    "from scipy.stats import norm"
   ]
  },
  {
   "cell_type": "code",
   "execution_count": 56,
   "metadata": {},
   "outputs": [],
   "source": [
    "stock_price = 100.\n",
    "strike_price = 99.0\n",
    "interest_rate = 0.06\n",
    "volatility = 0.20\n",
    "steps = 200\n",
    "T = 1 # maturity time in years\n",
    "\n",
    "u = math.exp(volatility * math.sqrt(1/steps))\n",
    "d = math.exp(-volatility * math.sqrt(1/steps))\n",
    "a = math.exp(interest_rate * 1/steps)\n",
    "p = (a - d) / (u - d)\n",
    "\n",
    "\n",
    "''' The bionomial tree. ''' \n",
    "def binomial_tree(steps, start):\n",
    "    ''' Binomial tree to approximate the price of the option. ''' \n",
    "    # Result includes stock price [0], option price [1], delta [2]\n",
    "    results = [[[start, 0, 0]]]\n",
    "    \n",
    "    for i in range(steps): \n",
    "        result = []\n",
    "        for j in range(len(results[-1])):\n",
    "            # calculate the stock price [0]\n",
    "            if j == 0:\n",
    "                result.append([results[-1][j][0] * d, 0, 0])\n",
    "            result.append([results[-1][j][0] * u, 0, 0])\n",
    "        results.append(result)  \n",
    "   \n",
    "    return results\n",
    "\n",
    "\n",
    "''' Approximate value with the european price call. ''' \n",
    "def call_option(S, K):\n",
    "    ''' Calculates the value of a call option at its expiration date. '''\n",
    "    return max(0, S - K)\n",
    "\n",
    "def risk_neutral_valuation(r, dt, fi, fj, p): \n",
    "    ''' Risk-neutral valuation of the option. '''\n",
    "    return math.exp(-r * dt) * (p * fi + (1 - p)*fj)\n",
    "\n",
    "def price_EU_call(treelist, strike_price, p):\n",
    "    ''' The price of the European call. '''\n",
    "    lentree = len(treelist)\n",
    "    \n",
    "    # calculate the option prices [1]\n",
    "    for el in treelist[-1]:\n",
    "        el[1] = call_option(el[0], strike_price)\n",
    "        \n",
    "    # calculate risk neutral valuation: back in time [1]\n",
    "    for i in range(len(treelist) - 2, -1, -1): # i is time\n",
    "        for j in range(len(treelist[i])): # j is ????\n",
    "            treelist[i][j][1] = risk_neutral_valuation(interest_rate, 1/steps, treelist[i+1][j+1][1], treelist[i+1][j][1], p)\n",
    "   \n",
    "    return treelist\n",
    "\n",
    "\n",
    "'''Analytical value'''\n",
    "def black_scholes(stock_price, strike_price, interest_rate, volatility, T):\n",
    "    d1 = (math.log(stock_price / strike_price) + (interest_rate + (volatility ** 2) / 2) * T) / (volatility * math.sqrt(T))\n",
    "    #d2 = d1 - volatility* math.sqrt(T)\n",
    "    d2 = (math.log(stock_price / strike_price) + (interest_rate - (volatility ** 2) / 2) * T) / (volatility * math.sqrt(T))\n",
    "   \n",
    "    call = stock_price * norm.cdf(d1) - strike_price * math.exp(- interest_rate * T) * norm.cdf(d2)\n",
    "    put = strike_price * math.exp(-interest_rate * T ) * norm.cdf(-d2) - stock_price * norm.cdf(-d1)\n",
    "\n",
    "    return call, put"
   ]
  },
  {
   "cell_type": "code",
   "execution_count": 57,
   "metadata": {},
   "outputs": [
    {
     "name": "stdout",
     "output_type": "stream",
     "text": [
      "The estimated price of the option: 11.550948684548938\n",
      "The analytical price of the option: 11.544280227051097\n"
     ]
    }
   ],
   "source": [
    "''' The estimate compared to the analytical value '''\n",
    "treelist = binomial_tree(steps, stock_price)\n",
    "filled_tree = price_EU_call(treelist, strike_price, p)\n",
    "\n",
    "#The estimate \n",
    "estimated_price = filled_tree[0][0][1]\n",
    "print('The estimated price of the option:', estimated_price)\n",
    "\n",
    "#The analytical value\n",
    "analytical_call, analytical_put = black_scholes(stock_price, strike_price, interest_rate, volatility, T)\n",
    "print('The analytical price of the option:', analytical_call)\n"
   ]
  },
  {
   "cell_type": "code",
   "execution_count": 58,
   "metadata": {},
   "outputs": [
    {
     "name": "stdout",
     "output_type": "stream",
     "text": [
      "0.01\n",
      "0.02\n",
      "0.03\n",
      "0.04\n",
      "0.05\n",
      "0.060000000000000005\n",
      "0.06999999999999999\n",
      "0.08\n",
      "0.09\n",
      "0.09999999999999999\n",
      "0.11\n",
      "0.12\n",
      "0.13\n",
      "0.14\n",
      "0.15000000000000002\n",
      "0.16\n",
      "0.17\n",
      "0.18000000000000002\n",
      "0.19\n",
      "0.2\n",
      "0.21000000000000002\n",
      "0.22\n",
      "0.23\n",
      "0.24000000000000002\n",
      "0.25\n",
      "0.26\n",
      "0.27\n",
      "0.28\n",
      "0.29000000000000004\n",
      "0.3\n",
      "0.31\n",
      "0.32\n",
      "0.33\n",
      "0.34\n",
      "0.35000000000000003\n",
      "0.36000000000000004\n",
      "0.37\n",
      "0.38\n",
      "0.39\n",
      "0.4\n",
      "0.41000000000000003\n",
      "0.42000000000000004\n",
      "0.43\n",
      "0.44\n",
      "0.45\n",
      "0.46\n",
      "0.47000000000000003\n",
      "0.48000000000000004\n",
      "0.49\n",
      "0.5\n",
      "0.51\n",
      "0.52\n",
      "0.53\n",
      "0.54\n",
      "0.55\n",
      "0.56\n",
      "0.5700000000000001\n",
      "0.5800000000000001\n",
      "0.59\n",
      "0.6\n",
      "0.61\n",
      "0.62\n",
      "0.63\n",
      "0.64\n",
      "0.65\n",
      "0.66\n",
      "0.67\n",
      "0.68\n",
      "0.6900000000000001\n",
      "0.7000000000000001\n",
      "0.7100000000000001\n",
      "0.72\n",
      "0.73\n",
      "0.74\n",
      "0.75\n",
      "0.76\n",
      "0.77\n",
      "0.78\n",
      "0.79\n",
      "0.8\n",
      "0.81\n",
      "0.8200000000000001\n",
      "0.8300000000000001\n",
      "0.8400000000000001\n",
      "0.85\n",
      "0.86\n",
      "0.87\n",
      "0.88\n",
      "0.89\n",
      "0.9\n",
      "0.91\n",
      "0.92\n",
      "0.93\n",
      "0.9400000000000001\n",
      "0.9500000000000001\n",
      "0.9600000000000001\n",
      "0.97\n",
      "0.98\n",
      "0.99\n",
      "1.0\n"
     ]
    },
    {
     "data": {
      "image/png": "[encoded data removed]",
      "text/plain": [
       "<Figure size 432x288 with 1 Axes>"
      ]
     },
     "metadata": {},
     "output_type": "display_data"
    }
   ],
   "source": [
    "''' Different values of volatility '''\n",
    "import matplotlib.pyplot as plt\n",
    "import numpy as np\n",
    "\n",
    "plt.figure()\n",
    "\n",
    "volatility = np.linspace(0.01,1,100)\n",
    "estimated_prices = []\n",
    "analytical_prices = []\n",
    "for i in volatility: \n",
    "    \n",
    "    u = math.exp(i * math.sqrt(1/steps))\n",
    "    d = math.exp(-i * math.sqrt(1/steps))\n",
    "    a = math.exp(interest_rate * 1/steps)\n",
    "    p = (a - d) / (u - d)\n",
    "    \n",
    "    #print(i)\n",
    "    \n",
    "    treelist = binomial_tree(steps, stock_price)\n",
    "    filled_tree = price_EU_call(treelist, strike_price, p)\n",
    "\n",
    "    # Estimated  and analytical price\n",
    "    estimated_prices.append(filled_tree[0][0][1])\n",
    "    analytical_prices.append(black_scholes(stock_price, strike_price, interest_rate, i, T)[0])\n",
    "    \n",
    "#plt.plot(range(len(estimated_prices)), estimated_prices, label ='Estimated price')\n",
    "#plt.plot(range(len(analytical_prices)), analytical_prices, label ='Analytical price')\n",
    "plt.plot(volatility, [abs(analytical_prices[i] - estimated_prices[i]) for i in range(len(analytical_prices))] , label ='Analytical price')\n",
    "\n",
    "plt.title('Approximation of the option price')\n",
    "plt.xlabel('Volatility (sigma)')\n",
    "plt.ylabel('Option price difference')\n",
    "plt.yscale('log')\n",
    "plt.legend(loc = 'best')\n",
    "plt.show()"
   ]
  },
  {
   "cell_type": "code",
   "execution_count": null,
   "metadata": {},
   "outputs": [],
   "source": []
  },
  {
   "cell_type": "markdown",
   "metadata": {},
   "source": [
    "## Ex. 2: Convergence of the method\n",
    "What is the computational complexity of this algorithm? <br>\n",
    "Done"
   ]
  },
  {
   "cell_type": "code",
   "execution_count": 50,
   "metadata": {},
   "outputs": [
    {
     "name": "stdout",
     "output_type": "stream",
     "text": [
      "1\n",
      "2\n",
      "3\n",
      "4\n",
      "5\n",
      "6\n",
      "7\n",
      "8\n",
      "9\n",
      "10\n",
      "11\n",
      "12\n",
      "13\n",
      "14\n",
      "15\n",
      "16\n",
      "17\n",
      "18\n",
      "19\n",
      "20\n",
      "21\n",
      "22\n",
      "23\n",
      "24\n",
      "25\n",
      "26\n",
      "27\n",
      "28\n",
      "29\n",
      "30\n",
      "31\n",
      "32\n",
      "33\n",
      "34\n",
      "35\n",
      "36\n",
      "37\n",
      "38\n",
      "39\n",
      "40\n",
      "41\n",
      "42\n",
      "43\n",
      "44\n",
      "45\n",
      "46\n",
      "47\n",
      "48\n",
      "49\n",
      "50\n"
     ]
    },
    {
     "data": {
      "image/png": "[encoded data removed]",
      "text/plain": [
       "<Figure size 432x288 with 1 Axes>"
      ]
     },
     "metadata": {},
     "output_type": "display_data"
    }
   ],
   "source": [
    "import matplotlib.pyplot as plt\n",
    "import numpy as np\n",
    "\n",
    "plt.figure()\n",
    "\n",
    "steps = np.linspace(1,50)\n",
    "estimated_prices = []\n",
    "analytical_prices = []\n",
    "for step in steps: \n",
    "    step = int(step)\n",
    "    #print(step)\n",
    "    u = math.exp(volatility * math.sqrt(1/step))\n",
    "    d = math.exp(-volatility * math.sqrt(1/step))\n",
    "    a = math.exp(interest_rate * 1/step)\n",
    "    p = (a - d) / (u - d)\n",
    "    \n",
    "    treelist = binomial_tree(step, stock_price)\n",
    "    filled_tree = price_EU_call(treelist, strike_price, p)\n",
    "\n",
    "    # Estimated  and analytical price\n",
    "    estimated_prices.append(filled_tree[0][0][1])\n",
    "    analytical_prices.append(black_scholes(stock_price, strike_price, interest_rate, volatility, T)[0])\n",
    "    \n",
    "#plt.plot(range(len(estimated_prices)), estimated_prices, label ='Estimated price')\n",
    "#plt.plot(range(len(analytical_prices)), analytical_prices, label ='Analytical price')\n",
    "plt.plot(steps, [abs(analytical_prices[i] - estimated_prices[i]) for i in range(len(analytical_prices))] , label ='Analytical price')\n",
    "\n",
    "plt.title('Approximation of the option price')\n",
    "plt.xlabel('Volatility (sigma)')\n",
    "plt.ylabel('Option price difference')\n",
    "plt.yscale('log')\n",
    "plt.legend(loc = 'best')\n",
    "plt.show()"
   ]
  },
  {
   "cell_type": "markdown",
   "metadata": {},
   "source": [
    "## Ex. 3: Hedge parameter\n",
    "Compare with the analytical values. \n",
    "Experiment for different values of the volatility."
   ]
  },
  {
   "cell_type": "code",
   "execution_count": null,
   "metadata": {},
   "outputs": [],
   "source": [
    "''' The estimation of delta. '''\n",
    "def estimate_delta(treelist):\n",
    "    lentree = len(treelist)\n",
    "    \n",
    "    for i in range(len(treelist) - 2, -1, -1): # i is time\n",
    "        for j in range(len(treelist[i])): # j is ????\n",
    "            treelist[i][j][2] = (treelist[i+1][j+1][1] - treelist[i+1][j][1]) / (treelist[i+1][j+1][0] - treelist[i+1][j][0])\n",
    " \n",
    "    return treelist\n",
    "            \n",
    "#SAME CALCULATIOIN, DIFFERENT METHOD TO ESTIMATE THE DELTA\n",
    "def calc_delta(treelist):\n",
    "    lentree = len(treelist)\n",
    "    for j in range(lentree - 1):\n",
    "        for k in range(len(treelist[-(j+2)])):\n",
    "            treelist[-(j+2)][k][2] = (treelist[-(j+1)][k][1] - treelist[-(j+1)][k+1][1]) / (treelist[-(j+1)][k][0] - treelist[-(j+1)][k+1][0])\n",
    "#             if j == 0 and k ==0:\n",
    "#                 print(treelist[-(j+1)][k][1], treelist[-(j+1)][k+1][1], treelist[-(j+2)][k][1])\n",
    "    return treelist\n",
    "\n",
    "\n",
    "''' The analytical delta. '''\n",
    "def analytical_delta(current_stock_price, strike_price, interest_rate, volatility, T, t, steps):\n",
    "    d1 = (math.log(current_stock_price / strike_price) + (interest_rate + (volatility ** 2) / 2) * T*(1-t/steps) / (volatility * math.sqrt(T*(1-t/steps))))\n",
    "    return norm.cdf(d1) "
   ]
  },
  {
   "cell_type": "code",
   "execution_count": null,
   "metadata": {},
   "outputs": [],
   "source": [
    "''' The estimate compared to the analytical value. '''\n",
    "# The estimate \n",
    "estimated_deltas = estimate_delta(filled_tree)\n",
    "print(estimated_deltas[0])\n",
    "\n",
    "b = calc_delta(filled_tree)\n",
    "print(b[0])\n",
    "\n",
    "# The analytical\n",
    "current_stock_price = 100\n",
    "t = 0\n",
    "anal_delta = analytical_delta(current_stock_price, strike_price, interest_rate, volatility, T, t, steps)\n",
    "#  d1 = (math.log(b[t][20][0] / strike_price) + (interest_rate + (volatility ** 2) / 2) * T*(1-t/steps) / (volatility * math.sqrt(T*(1-t/steps))))\n",
    "# print(norm.cdf(d1))\n",
    "\n",
    "print(anal_delta)\n"
   ]
  },
  {
   "cell_type": "code",
   "execution_count": null,
   "metadata": {},
   "outputs": [],
   "source": []
  },
  {
   "cell_type": "markdown",
   "metadata": {},
   "source": [
    "## Ex. 4: American option \n",
    "What is the value of the American put and call for the corresponding parameters? <br>\n",
    "Experiment for different values of the volatility."
   ]
  },
  {
   "cell_type": "code",
   "execution_count": null,
   "metadata": {},
   "outputs": [],
   "source": [
    "''' American call option. ''' \n",
    "def price_US_call(treelist, strike_price, p):\n",
    "    lentree = len(treelist)\n",
    "    for el in treelist[-1]:\n",
    "        el[1] = call_option(el[0], strike_price)\n",
    "        \n",
    "    for i in range(lentree - 1):\n",
    "        for j in range(len(treelist[-(i+2)])):\n",
    "            keeping_value = risk_neutral_valuation(interest_rate, 1/steps, treelist[-(i+1)][j+1][1], treelist[-(i+1)][j][1], p)\n",
    "            use_now_value = call_option(treelist[-(i+2)][j][0], strike_price)\n",
    "            \n",
    "            treelist[-(i+2)][j][1] = max(keeping_value, use_now_value)\n",
    "\n",
    "    return treelist\n",
    "\n",
    "\n",
    "''' American put option. ''' \n",
    "def put_option(S, K ): \n",
    "    ''' Calculates the value of a put option at its expiration date. '''\n",
    "    return max(0, K - S)\n",
    "\n",
    "def price_US_put(treelist, strike_price, p):\n",
    "    lentree = len(treelist)\n",
    "    for el in treelist[-1]:\n",
    "        el[1] = put_option(el[0], strike_price)\n",
    "        \n",
    "    for i in range(lentree - 1):\n",
    "        for j in range(len(treelist[-(i+2)])):\n",
    "            keeping_value = risk_neutral_valuation(interest_rate, 1/steps, treelist[-(i+1)][j+1][1], treelist[-(i+1)][j][1], p)\n",
    "            use_now_value = put_option(treelist[-(i+2)][j][0], strike_price)\n",
    "            \n",
    "            treelist[-(i+2)][j][1] = max(keeping_value, use_now_value)\n",
    "\n",
    "    return treelist\n",
    "    "
   ]
  },
  {
   "cell_type": "code",
   "execution_count": null,
   "metadata": {},
   "outputs": [],
   "source": [
    "''' The American put and call option. '''\n",
    "treelist = binomial_tree(steps, stock_price)\n",
    "\n",
    "treelist2 = binomial_tree(steps, stock_price)\n",
    "call_US = price_US_call(treelist, strike_price, p)\n",
    "put_US = price_US_put(treelist2, strike_price, p)\n",
    "\n",
    "print('The American call option: ', call_US[0][0][1])\n",
    "print('The American put option:', put_US[0][0][1])\n",
    "# Call is altijd meer waard dan een put \n"
   ]
  },
  {
   "cell_type": "code",
   "execution_count": null,
   "metadata": {},
   "outputs": [],
   "source": [
    "''' Different values of volatility. '''\n",
    "\n",
    "plt.plot()\n",
    "plt.title('Stock price with different values of volatility')\n",
    "plt.xlabel('Volatility (sigma)')\n",
    "plt.ylabel('Stock price')\n",
    "plt.show()"
   ]
  },
  {
   "cell_type": "markdown",
   "metadata": {},
   "source": [
    "# Part 2: Hedging Simulations"
   ]
  },
  {
   "cell_type": "code",
   "execution_count": null,
   "metadata": {},
   "outputs": [],
   "source": [
    "import random\n",
    "import numpy as np\n",
    "import matplotlib.pyplot as plt\n",
    "import math"
   ]
  },
  {
   "cell_type": "code",
   "execution_count": null,
   "metadata": {},
   "outputs": [],
   "source": [
    "stock_price = 100.0\n",
    "strike_price = 99\n",
    "interest_rate = 0.06\n",
    "volatility = 0.2\n",
    "T = 1\n",
    "steps = 365\n",
    "\n",
    "u = math.exp(volatility * math.sqrt(1/steps))\n",
    "d = math.exp(-volatility * math.sqrt(1/steps))\n",
    "a = math.exp(interest_rate * 1/steps)\n",
    "p = (a - d) / (u - d)\n",
    "\n",
    "\n",
    "def dynamics_stock_price(r, S, dt, sigma):\n",
    "    ''' The dynamics of the stock price S. '''\n",
    "    dZ = np.random.normal() * math.sqrt(dt)\n",
    "\n",
    "    return S + r*S*dt + sigma * S * dZ\n",
    "\n",
    "\n",
    "''' The analytical delta. '''\n",
    "def analytical_delta(current_stock_price, strike_price, interest_rate, volatility, T, t, steps):\n",
    "    #print((steps - t)/steps)\n",
    "    d1 = (math.log(current_stock_price / strike_price) + (interest_rate + (volatility ** 2) / 2) * ((steps - t)/steps)) / (volatility * math.sqrt((steps - t)/steps))\n",
    "    return norm.cdf(d1) \n",
    "\n",
    "\n",
    "stock_over_time = [stock_price]\n",
    "anal_delta = []\n",
    "for t in range(steps):\n",
    "    stock_over_time.append(dynamics_stock_price(interest_rate, stock_over_time[t], T/steps, volatility))\n",
    "    anal_delta.append(analytical_delta(stock_over_time[t], strike_price, interest_rate, volatility, T, t, steps))"
   ]
  },
  {
   "cell_type": "code",
   "execution_count": null,
   "metadata": {},
   "outputs": [],
   "source": [
    "call_prices = []\n",
    "for i in range(steps):\n",
    "    call, put = black_scholes(stock_over_time[i], strike_price, interest_rate, volatility, T*(1-i/steps))\n",
    "    call_prices.append(call)"
   ]
  },
  {
   "cell_type": "code",
   "execution_count": null,
   "metadata": {},
   "outputs": [],
   "source": [
    "1*(1-265/365)"
   ]
  },
  {
   "cell_type": "code",
   "execution_count": null,
   "metadata": {},
   "outputs": [],
   "source": [
    "#Plot of the stock price over time\n",
    "plt.plot(stock_over_time)\n",
    "plt.title('Stock price over time')\n",
    "plt.xlabel('Time (t)')\n",
    "plt.ylabel('Stock price')\n",
    "plt.show()\n",
    "\n",
    "plt.plot(call_prices)\n",
    "plt.title('Call price over time')\n",
    "plt.xlabel('Time (t)')\n",
    "plt.ylabel('Call price')\n",
    "plt.show()\n",
    "\n",
    "plt.plot(anal_delta)\n",
    "plt.show()"
   ]
  },
  {
   "cell_type": "code",
   "execution_count": null,
   "metadata": {},
   "outputs": [],
   "source": [
    "3*1/365"
   ]
  },
  {
   "cell_type": "code",
   "execution_count": null,
   "metadata": {},
   "outputs": [],
   "source": [
    "stock_over_time[0]"
   ]
  },
  {
   "cell_type": "code",
   "execution_count": null,
   "metadata": {},
   "outputs": [],
   "source": []
  },
  {
   "cell_type": "code",
   "execution_count": null,
   "metadata": {},
   "outputs": [],
   "source": [
    "call_prices[0]"
   ]
  },
  {
   "cell_type": "code",
   "execution_count": null,
   "metadata": {},
   "outputs": [],
   "source": [
    "print(len(stock_over_time))"
   ]
  },
  {
   "cell_type": "code",
   "execution_count": null,
   "metadata": {},
   "outputs": [],
   "source": [
    "anal_delta[0]"
   ]
  },
  {
   "cell_type": "code",
   "execution_count": null,
   "metadata": {},
   "outputs": [],
   "source": [
    "print(len(call_prices))"
   ]
  },
  {
   "cell_type": "code",
   "execution_count": null,
   "metadata": {},
   "outputs": [],
   "source": [
    "print(stock_over_time[40])"
   ]
  },
  {
   "cell_type": "code",
   "execution_count": null,
   "metadata": {},
   "outputs": [],
   "source": [
    "print(anal_delta[40])"
   ]
  },
  {
   "cell_type": "code",
   "execution_count": null,
   "metadata": {},
   "outputs": [],
   "source": [
    "print(call_prices[40])"
   ]
  },
  {
   "cell_type": "code",
   "execution_count": null,
   "metadata": {},
   "outputs": [],
   "source": [
    "1*(1-40/365)"
   ]
  },
  {
   "cell_type": "code",
   "execution_count": null,
   "metadata": {},
   "outputs": [],
   "source": [
    "hedgetime = 1\n",
    "\n",
    "money = []\n",
    "call_value = []\n",
    "delta_list = []\n",
    "folio_price = []\n",
    "interest_loss = 0\n",
    "loss_per_time = []\n",
    "for i in range(steps):\n",
    "    if i == 0:\n",
    "        call_value.append(call_prices[i])\n",
    "        delta_list.append(anal_delta[i])\n",
    "        folio_price.append(anal_delta[i] * stock_over_time[i])\n",
    "        money.append(call_prices[i] - anal_delta[i] * stock_over_time[i])\n",
    "    elif i%hedgetime == 0:\n",
    "        call_value.append(call_prices[i])\n",
    "        money.append(money[-1] * ((1 + interest_rate)**(hedgetime/steps)) - (anal_delta[i] - delta_list[-1]) * stock_over_time[i])\n",
    "        interest_loss = interest_loss + money[-1] * (1 + interest_rate)**(hedgetime/steps) - money[-1]\n",
    "        loss_per_time\n",
    "        delta_list.append(anal_delta[i])\n",
    "        folio_price.append(anal_delta[i] * stock_over_time[i])\n",
    "        \n",
    "#print(money)\n",
    "#print(call_value)\n",
    "#print(delta_list)\n",
    "#print(folio_price)\n",
    "money[-1] = money[-1] - max(0, stock_over_time[-1] - strike_price)\n",
    "        "
   ]
  },
  {
   "cell_type": "code",
   "execution_count": null,
   "metadata": {},
   "outputs": [],
   "source": [
    "total_worth = [money[i] + folio_price[i] for i in range(len(money))]\n",
    "plt.plot(range(len(money)), money, label = \"Money\")\n",
    "plt.plot(range(len(money)), call_value, label= \"Option\")\n",
    "#plt.plot(range(len(money)), delta_list = \"\")\n",
    "plt.plot(range(len(money)), folio_price, label = \"Folio price\")\n",
    "plt.plot(range(len(money)), total_worth, label = \"Total worth\")\n",
    "\n",
    "plt.legend()\n",
    "plt.show()"
   ]
  },
  {
   "cell_type": "code",
   "execution_count": null,
   "metadata": {},
   "outputs": [],
   "source": [
    "stock_over_time[0]"
   ]
  },
  {
   "cell_type": "code",
   "execution_count": null,
   "metadata": {},
   "outputs": [],
   "source": [
    "strike_price"
   ]
  },
  {
   "cell_type": "code",
   "execution_count": null,
   "metadata": {},
   "outputs": [],
   "source": [
    "interest_loss"
   ]
  },
  {
   "cell_type": "code",
   "execution_count": null,
   "metadata": {},
   "outputs": [],
   "source": [
    "total_worth[-1]"
   ]
  },
  {
   "cell_type": "code",
   "execution_count": null,
   "metadata": {},
   "outputs": [],
   "source": [
    "call_prices[0]"
   ]
  },
  {
   "cell_type": "code",
   "execution_count": null,
   "metadata": {},
   "outputs": [],
   "source": [
    "total_worth[0]"
   ]
  },
  {
   "cell_type": "code",
   "execution_count": null,
   "metadata": {},
   "outputs": [],
   "source": [
    "total_worth[0] + interest_loss"
   ]
  },
  {
   "cell_type": "code",
   "execution_count": null,
   "metadata": {},
   "outputs": [],
   "source": [
    "stock_over_time[-1]"
   ]
  },
  {
   "cell_type": "code",
   "execution_count": null,
   "metadata": {},
   "outputs": [],
   "source": [
    "money[-1] + folio_price[-1]"
   ]
  },
  {
   "cell_type": "code",
   "execution_count": null,
   "metadata": {},
   "outputs": [],
   "source": [
    "money[0] + folio_price[0]"
   ]
  },
  {
   "cell_type": "code",
   "execution_count": null,
   "metadata": {},
   "outputs": [],
   "source": [
    "call_prices[0]"
   ]
  },
  {
   "cell_type": "code",
   "execution_count": null,
   "metadata": {},
   "outputs": [],
   "source": [
    "anal_delta[0] * stock_over_time[0]"
   ]
  },
  {
   "cell_type": "code",
   "execution_count": null,
   "metadata": {},
   "outputs": [],
   "source": [
    "money[0]"
   ]
  },
  {
   "cell_type": "code",
   "execution_count": null,
   "metadata": {},
   "outputs": [],
   "source": [
    "folio_price[0]"
   ]
  },
  {
   "cell_type": "code",
   "execution_count": null,
   "metadata": {},
   "outputs": [],
   "source": [
    "from scipy import stats"
   ]
  },
  {
   "cell_type": "code",
   "execution_count": null,
   "metadata": {},
   "outputs": [],
   "source": [
    "end_change = []\n",
    "for i in range(1000):\n",
    "    if i%100 == 0:\n",
    "        print(i)\n",
    "    stock_over_time = [stock_price]\n",
    "    anal_delta = []\n",
    "    for t in range(steps):\n",
    "        stock_over_time.append(dynamics_stock_price(interest_rate, stock_over_time[t], T/steps, volatility))\n",
    "        anal_delta.append(analytical_delta(stock_over_time[t], strike_price, interest_rate, volatility, T, t, steps))\n",
    "        \n",
    "    call_prices = []\n",
    "    for i in range(steps):\n",
    "        call, put = black_scholes(stock_over_time[i], strike_price, interest_rate, volatility, T*(1-i/steps))\n",
    "        call_prices.append(call)\n",
    "        \n",
    "    money = []\n",
    "    call_value = []\n",
    "    delta_list = []\n",
    "    folio_price = []\n",
    "\n",
    "    for i in range(steps):\n",
    "        if i == 0:\n",
    "            call_value.append(call_prices[i])\n",
    "            delta_list.append(anal_delta[i])\n",
    "            folio_price.append(anal_delta[i] * stock_over_time[i])\n",
    "            money.append(call_prices[i] - anal_delta[i] * stock_over_time[i])\n",
    "        elif i%hedgetime == 0:\n",
    "            call_value.append(call_prices[i])\n",
    "            money.append(money[-1] * (1 + interest_rate)**(hedgetime/steps) - (anal_delta[i] - delta_list[-1]) * stock_over_time[i])\n",
    "            delta_list.append(anal_delta[i])\n",
    "            folio_price.append(anal_delta[i] * stock_over_time[i])\n",
    "        \n",
    "    money[-1] = money[-1] - max(0, stock_over_time[-1] - strike_price)\n",
    "\n",
    "    end_change.append(money[-1] + folio_price[-1])\n",
    "\n",
    "print(end_change)\n",
    "\n",
    "plt.hist(end_change)\n",
    "plt.show()"
   ]
  },
  {
   "cell_type": "code",
   "execution_count": null,
   "metadata": {},
   "outputs": [],
   "source": [
    "CI = stats.norm.interval(0.95, loc = np.mean(end_change), scale = np.std(end_change)) # TODO: check this\n",
    "plt.axvline(CI[0], color = 'r')\n",
    "plt.axvline(CI[1], color = 'r')\n",
    "plt.hist(end_change, bins = 30)\n",
    "plt.show()"
   ]
  },
  {
   "cell_type": "code",
   "execution_count": null,
   "metadata": {},
   "outputs": [],
   "source": [
    "np.mean(end_change)"
   ]
  },
  {
   "cell_type": "code",
   "execution_count": null,
   "metadata": {},
   "outputs": [],
   "source": [
    "print(black_scholes(86, 99, 0.06, 0.2, 0.5))"
   ]
  },
  {
   "cell_type": "code",
   "execution_count": null,
   "metadata": {},
   "outputs": [],
   "source": []
  },
  {
   "cell_type": "code",
   "execution_count": null,
   "metadata": {},
   "outputs": [],
   "source": []
  }
 ],
 "metadata": {
  "kernelspec": {
   "display_name": "Python 3",
   "language": "python",
   "name": "python3"
  },
  "language_info": {
   "codemirror_mode": {
    "name": "ipython",
    "version": 3
   },
   "file_extension": ".py",
   "mimetype": "text/x-python",
   "name": "python",
   "nbconvert_exporter": "python",
   "pygments_lexer": "ipython3",
   "version": "3.6.5"
  }
 },
 "nbformat": 4,
 "nbformat_minor": 2
}
