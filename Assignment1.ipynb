{
 "cells": [
  {
   "cell_type": "markdown",
   "metadata": {},
   "source": [
    "# Part 1: Option Valuation"
   ]
  },
  {
   "cell_type": "code",
   "execution_count": null,
   "metadata": {},
   "outputs": [],
   "source": [
    "import math\n",
    "\n",
    "stock_price = 100.0\n",
    "strike_price = 99.0\n",
    "interest_rate = 1.06\n",
    "volatility = 0.20\n",
    "steps = 50 \n",
    "\n",
    "def call_option(S, K):\n",
    "    return max(0, S - K)\n",
    "\n",
    "def risk_neutral_valuation(): \n",
    "    return math.exp(-r * dt) * (p + f[i+1][j+1] + (1 - p)*f[i+1][j])\n",
    "\n",
    "def binomial_tree(steps, start):\n",
    "    count = 0 \n",
    "    results = [[start]]\n",
    "    \n",
    "    for i in range(steps): \n",
    "        result = []\n",
    "        for j in results[-1]:\n",
    "            #results[j]\n",
    "            print(result)\n",
    "            \n",
    "            \n",
    "        \n",
    "        count += 1\n",
    "    print(results)\n",
    "    return results\n",
    "\n",
    "binomial_tree(steps, stock_price)"
   ]
  },
  {
   "cell_type": "markdown",
   "metadata": {},
   "source": [
    "# Part 2: Hedging Simulations"
   ]
  },
  {
   "cell_type": "code",
   "execution_count": null,
   "metadata": {},
   "outputs": [],
   "source": [
    "# T = 1\n",
    "\n",
    "stock_price = 100.0\n",
    "strike_price = 99.0\n",
    "interest_rate = 1.06\n",
    "volatility = 0.20\n",
    "\n",
    "def dynamics_stock_price(r, S, dt, sigma, dZ):\n",
    "    return r*S*dt + sigma * S * dZ\n",
    "\n"
   ]
  },
  {
   "cell_type": "code",
   "execution_count": null,
   "metadata": {},
   "outputs": [],
   "source": []
  },
  {
   "cell_type": "code",
   "execution_count": null,
   "metadata": {},
   "outputs": [],
   "source": []
  },
  {
   "cell_type": "code",
   "execution_count": null,
   "metadata": {},
   "outputs": [],
   "source": []
  }
 ],
 "metadata": {
  "kernelspec": {
   "display_name": "Python 3",
   "language": "python",
   "name": "python3"
  },
  "language_info": {
   "codemirror_mode": {
    "name": "ipython",
    "version": 3
   },
   "file_extension": ".py",
   "mimetype": "text/x-python",
   "name": "python",
   "nbconvert_exporter": "python",
   "pygments_lexer": "ipython3",
   "version": "3.6.6"
  }
 },
 "nbformat": 4,
 "nbformat_minor": 2
}
