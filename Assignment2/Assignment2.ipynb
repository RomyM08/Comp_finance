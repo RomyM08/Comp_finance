{
 "cells": [
  {
   "cell_type": "markdown",
   "metadata": {},
   "source": [
    "# Part 1: Basic Option Valuation\n",
    "Carry out convergence studies by increasing\n",
    "the number of trials. How do your results compare with the results obtained in assignment 1?\n",
    "Perform numerical tests for varying values for the strike and the volatility parameter. What is\n",
    "the standard error of your estimate and what does this tell you about the accuracy?"
   ]
  },
  {
   "cell_type": "code",
   "execution_count": 34,
   "metadata": {},
   "outputs": [],
   "source": [
    "import numpy as np\n",
    "import matplotlib.pyplot as plt\n",
    "import math\n",
    "from numba import jit\n",
    "from scipy import stats"
   ]
  },
  {
   "cell_type": "code",
   "execution_count": 63,
   "metadata": {},
   "outputs": [],
   "source": [
    "@jit (nopython = True)\n",
    "def one_step_stock_jit(stock_price, interest_rate, volatility, maturity):\n",
    "    return stock_price * math.exp((interest_rate - 0.5 * volatility ** 2) * maturity + volatility * math.sqrt(maturity) * np.random.normal())\n",
    "\n",
    "@jit (nopython = True)\n",
    "def monte_carlo_option_jit(trials, strike_price, stock_price, interest_rate, volatility, maturity):\n",
    "    # trials are #iterations of monte carlo\n",
    "    monte_results = []\n",
    "    for i in range(trials):\n",
    "        current_monte = one_step_stock_jit(stock_price, interest_rate, volatility, maturity)\n",
    "        if current_monte - K > 0:\n",
    "            monte_results.append(current_monte)\n",
    "        else:\n",
    "            monte_results.append(0)\n",
    "        \n",
    "    return monte_results\n",
    "    "
   ]
  },
  {
   "cell_type": "code",
   "execution_count": 64,
   "metadata": {},
   "outputs": [],
   "source": [
    "# @jit (nopython = True)\n",
    "def one_step_stock(stock_price, interest_rate, volatility, maturity):\n",
    "    return stock_price * math.exp((interest_rate - 0.5 * volatility ** 2) * maturity + volatility * math.sqrt(maturity) * np.random.normal())\n",
    "\n",
    "# @jit (nopython = True)\n",
    "def monte_carlo_option(trials, strike_price, stock_price, interest_rate, volatility, maturity):\n",
    "    # trials are #iterations of monte carlo\n",
    "    monte_results = []\n",
    "    for i in range(trials):\n",
    "        current_payoff = max(one_step_stock(stock_price, interest_rate, volatility, maturity) - K, 0)\n",
    "        monte_results.append(current_payoff)\n",
    "        \n",
    "    return monte_results"
   ]
  },
  {
   "cell_type": "code",
   "execution_count": 67,
   "metadata": {},
   "outputs": [
    {
     "name": "stdout",
     "output_type": "stream",
     "text": [
      "74.17018342018127\n"
     ]
    }
   ],
   "source": [
    "T = 1\n",
    "K = 99\n",
    "r = 0.06\n",
    "S0 = 100\n",
    "sigma = 0.2\n",
    "\n",
    "trials = 10000000\n",
    "import time\n",
    "time0 = time.time()\n",
    "monte_results = monte_carlo_option(trials, K, S0, r, sigma, T)\n",
    "print(time.time() - time0)\n",
    "# Mean and std\n",
    "monte_mean = np.mean(monte_results)\n",
    "monte_std = np.std(monte_results)\n",
    "\n",
    "  "
   ]
  },
  {
   "cell_type": "code",
   "execution_count": 68,
   "metadata": {},
   "outputs": [
    {
     "name": "stdout",
     "output_type": "stream",
     "text": [
      "2.2530510425567627\n"
     ]
    }
   ],
   "source": [
    "T = 1\n",
    "K = 99\n",
    "r = 0.06\n",
    "S0 = 100\n",
    "sigma = 0.2\n",
    "\n",
    "trials = 10000000\n",
    "time0 = time.time()\n",
    "\n",
    "monte_results = monte_carlo_option_jit(trials, K, S0, r, sigma, T)\n",
    "print(time.time() - time0)\n",
    "\n",
    "# Mean and std\n",
    "monte_mean = np.mean(monte_results)\n",
    "monte_std = np.std(monte_results)\n",
    "\n",
    "  "
   ]
  },
  {
   "cell_type": "code",
   "execution_count": 33,
   "metadata": {},
   "outputs": [
    {
     "data": {
      "image/png": "[encoded data removed]",
      "text/plain": [
       "<Figure size 432x288 with 1 Axes>"
      ]
     },
     "metadata": {
      "needs_background": "light"
     },
     "output_type": "display_data"
    }
   ],
   "source": [
    "#Payoff kan nooit negatief zijn \n",
    "\n",
    "CI95 = stats.norm.interval(0.95, loc = monte_mean, scale = monte_std) \n",
    "plt.axvline(CI95[0], color = 'r', label = '95% CI')\n",
    "plt.axvline(CI95[1], color = 'r')\n",
    "\n",
    "plt.legend()\n",
    "plt.hist(monte_results)\n",
    "plt.ylabel('Observations')\n",
    "plt.xlabel('Profit or Loss')\n",
    "plt.title('Profit or loss after hedging using stocks and a call option (option volatility = 30% )')\n",
    "plt.show()"
   ]
  },
  {
   "cell_type": "code",
   "execution_count": null,
   "metadata": {},
   "outputs": [],
   "source": []
  },
  {
   "cell_type": "code",
   "execution_count": null,
   "metadata": {},
   "outputs": [],
   "source": []
  },
  {
   "cell_type": "markdown",
   "metadata": {},
   "source": [
    "# Part 2: Estimation of Sensitivities in MC"
   ]
  },
  {
   "cell_type": "code",
   "execution_count": null,
   "metadata": {},
   "outputs": [],
   "source": []
  },
  {
   "cell_type": "code",
   "execution_count": null,
   "metadata": {},
   "outputs": [],
   "source": []
  },
  {
   "cell_type": "code",
   "execution_count": null,
   "metadata": {},
   "outputs": [],
   "source": []
  },
  {
   "cell_type": "code",
   "execution_count": null,
   "metadata": {},
   "outputs": [],
   "source": []
  },
  {
   "cell_type": "code",
   "execution_count": null,
   "metadata": {},
   "outputs": [],
   "source": []
  },
  {
   "cell_type": "code",
   "execution_count": null,
   "metadata": {},
   "outputs": [],
   "source": []
  },
  {
   "cell_type": "code",
   "execution_count": null,
   "metadata": {},
   "outputs": [],
   "source": []
  },
  {
   "cell_type": "code",
   "execution_count": null,
   "metadata": {},
   "outputs": [],
   "source": []
  },
  {
   "cell_type": "code",
   "execution_count": null,
   "metadata": {},
   "outputs": [],
   "source": []
  },
  {
   "cell_type": "code",
   "execution_count": null,
   "metadata": {},
   "outputs": [],
   "source": []
  },
  {
   "cell_type": "markdown",
   "metadata": {},
   "source": [
    "# Part 3: Variance Reduction"
   ]
  },
  {
   "cell_type": "code",
   "execution_count": null,
   "metadata": {},
   "outputs": [],
   "source": []
  },
  {
   "cell_type": "code",
   "execution_count": null,
   "metadata": {},
   "outputs": [],
   "source": []
  },
  {
   "cell_type": "code",
   "execution_count": null,
   "metadata": {},
   "outputs": [],
   "source": []
  },
  {
   "cell_type": "code",
   "execution_count": null,
   "metadata": {},
   "outputs": [],
   "source": []
  },
  {
   "cell_type": "code",
   "execution_count": null,
   "metadata": {},
   "outputs": [],
   "source": []
  },
  {
   "cell_type": "code",
   "execution_count": null,
   "metadata": {},
   "outputs": [],
   "source": []
  },
  {
   "cell_type": "code",
   "execution_count": null,
   "metadata": {},
   "outputs": [],
   "source": []
  },
  {
   "cell_type": "code",
   "execution_count": null,
   "metadata": {},
   "outputs": [],
   "source": []
  },
  {
   "cell_type": "code",
   "execution_count": null,
   "metadata": {},
   "outputs": [],
   "source": []
  }
 ],
 "metadata": {
  "kernelspec": {
   "display_name": "Python 3",
   "language": "python",
   "name": "python3"
  },
  "language_info": {
   "codemirror_mode": {
    "name": "ipython",
    "version": 3
   },
   "file_extension": ".py",
   "mimetype": "text/x-python",
   "name": "python",
   "nbconvert_exporter": "python",
   "pygments_lexer": "ipython3",
   "version": "3.6.6"
  }
 },
 "nbformat": 4,
 "nbformat_minor": 2
}
