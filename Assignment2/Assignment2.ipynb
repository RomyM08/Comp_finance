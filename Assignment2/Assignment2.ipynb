{
 "cells": [
  {
   "cell_type": "markdown",
   "metadata": {},
   "source": [
    "# Part 1: Basic Option Valuation\n",
    "Carry out convergence studies by increasing the number of trials.  <br>\n",
    "How do your results compare with the results obtained in assignment 1?  <br>\n",
    "Perform numerical tests for varying values for the strike and the volatility parameter.  <br>\n",
    "What is the standard error of your estimate and what does this tell you about the accuracy?"
   ]
  },
  {
   "cell_type": "markdown",
   "metadata": {},
   "source": [
    "# TO DO \n",
    "### Romy:\n",
    "- Maakt tabellen 2.1 + BS delta berekening\n",
    "- Overleaf intro schrijven\n",
    "\n",
    "### Jasper:\n",
    "- [ ] 1 alle plotjes voor 1\n",
    "- [ ] 2.2 pathwise controle\n",
    "- [ ] 3 formules\n",
    "- [ ] 3 coderen Asian option\n",
    "\n",
    "### Steven:\n",
    "- 2.2 delta uitrekeken\n",
    "- 2.2 loglikelyhood\n"
   ]
  },
  {
   "cell_type": "code",
   "execution_count": 1,
   "metadata": {},
   "outputs": [],
   "source": [
    "import numpy as np\n",
    "import matplotlib.pyplot as plt\n",
    "import math\n",
    "import time\n",
    "import random\n",
    "\n",
    "from scipy.stats import norm\n",
    "from numba import jit\n",
    "from scipy import stats"
   ]
  },
  {
   "cell_type": "code",
   "execution_count": 2,
   "metadata": {},
   "outputs": [],
   "source": [
    "# THIS IS NOW A PUT OPTION!\n",
    "\n",
    "@jit (nopython = True)\n",
    "def one_step_stock(stock_price, interest_rate, volatility, maturity):\n",
    "    return stock_price * math.exp((interest_rate - 0.5 * volatility ** 2) * maturity + volatility * math.sqrt(maturity) * np.random.normal())\n",
    "\n",
    "@jit (nopython = True)\n",
    "def monte_carlo_option(trials, strike_price, stock_price, interest_rate, volatility, maturity):\n",
    "    # trials are #iterations of monte carlo\n",
    "    monte_results = []\n",
    "    for i in range(trials):\n",
    "        current_monte = one_step_stock(stock_price, interest_rate, volatility, maturity)\n",
    "        if current_monte - strike_price < 0:\n",
    "            monte_results.append((strike_price - current_monte)/ (1 + interest_rate))\n",
    "        else:\n",
    "            monte_results.append(0)\n",
    "        \n",
    "    return monte_results \n",
    "    "
   ]
  },
  {
   "cell_type": "code",
   "execution_count": 3,
   "metadata": {},
   "outputs": [],
   "source": [
    "# @jit (nopython = True)\n",
    "def experiment():\n",
    "    ''' The Monte Carlo method.'''\n",
    "    T = 1\n",
    "    K = 80\n",
    "    r = 0.06\n",
    "    S0 = 100\n",
    "    sigma = 0.2\n",
    "\n",
    "    trials = 10000\n",
    "    time0 = time.time()\n",
    "\n",
    "    monte_total = []\n",
    "    iters = 10000\n",
    "    for i in range(iters):\n",
    "        monte_results = monte_carlo_option(trials, K, S0, r, sigma, T)\n",
    "        # print(time.time() - time0)\n",
    "\n",
    "        # Mean and std\n",
    "        monte_mean = np.mean(monte_results)\n",
    "        monte_total.append(monte_mean)\n",
    "    # monte_std = np.std(monte_results)\n",
    "    return monte_total"
   ]
  },
  {
   "cell_type": "code",
   "execution_count": 4,
   "metadata": {},
   "outputs": [],
   "source": [
    "results = experiment()"
   ]
  },
  {
   "cell_type": "code",
   "execution_count": 5,
   "metadata": {},
   "outputs": [
    {
     "data": {
      "text/plain": [
       "0.613623056751681"
      ]
     },
     "execution_count": 5,
     "metadata": {},
     "output_type": "execute_result"
    }
   ],
   "source": [
    "np.mean(results)"
   ]
  },
  {
   "cell_type": "code",
   "execution_count": 6,
   "metadata": {
    "scrolled": true
   },
   "outputs": [
    {
     "data": {
      "image/png": "[encoded data removed]",
      "text/plain": [
       "<Figure size 432x288 with 1 Axes>"
      ]
     },
     "metadata": {},
     "output_type": "display_data"
    }
   ],
   "source": [
    "#Payoff kan nooit negatief zijn \n",
    "CI95 = stats.norm.interval(0.95, loc = np.mean(results), scale = np.std(results)) \n",
    "plt.axvline(CI95[0], color = 'r', label = '95% CI')\n",
    "#plt.axvline(4.77, color = 'black', linestyle = ':', label = 'Black-Scholes Price')\n",
    "plt.axvline(CI95[1], color = 'r')\n",
    "\n",
    "plt.legend()\n",
    "plt.hist(results, bins = 30)\n",
    "plt.ylabel('Observations')\n",
    "plt.xlabel('Option price')\n",
    "plt.title('Price of a put option (100000 trials)')\n",
    "plt.savefig(\"100000trialsQ21Put.png\")\n",
    "plt.show()"
   ]
  },
  {
   "cell_type": "code",
   "execution_count": 7,
   "metadata": {},
   "outputs": [],
   "source": [
    "# '''  Varying the strike and the volatility. '''\n",
    "\n",
    "# strike_list = [x for x in range(1,201)] #np.linspace(1,200)\n",
    "# # print(strike_list)\n",
    "\n",
    "# profit_list = []\n",
    "# for K in strike_list:\n",
    "#     profit = monte_carlo_option(trials, K, S0, r, sigma, T)\n",
    "#     profit_list.append(profit)\n",
    "     \n",
    "# plt.plot(strike_list, profit)\n",
    "# plt.title('Varying strike')\n",
    "# plt.xlabel('Strike price')\n",
    "# plt.ylabel('Profit or Loss')\n",
    "# plt.legend()\n",
    "# plt.show()"
   ]
  },
  {
   "cell_type": "markdown",
   "metadata": {},
   "source": [
    "# Part 2: Estimation of Sensitivities in MC"
   ]
  },
  {
   "cell_type": "markdown",
   "metadata": {},
   "source": [
    "## 1) Bump-and-revalue method."
   ]
  },
  {
   "cell_type": "code",
   "execution_count": 8,
   "metadata": {},
   "outputs": [],
   "source": [
    "@jit (nopython = True)\n",
    "def one_step_stock(stock_price, interest_rate, volatility, maturity, Z):\n",
    "    np.random.seed(5)\n",
    "    return stock_price * math.exp((interest_rate - 0.5 * volatility ** 2) * maturity + volatility * math.sqrt(maturity) * Z)\n",
    "\n",
    "@jit (nopython = True)\n",
    "def monte_carlo_option(trials, strike_price, stock_price, interest_rate, volatility, maturity, randomness):\n",
    "    # trials are #iterations of monte carlo\n",
    "    monte_results = []\n",
    "    for i in range(trials):\n",
    "        current_monte = one_step_stock(stock_price, interest_rate, volatility, maturity, randomness[i])\n",
    "        if current_monte - strike_price < 0:\n",
    "            monte_results.append((strike_price - current_monte)/ (1 + interest_rate))\n",
    "        else:\n",
    "            monte_results.append(0)\n",
    "        \n",
    "    return monte_results \n",
    "    "
   ]
  },
  {
   "cell_type": "code",
   "execution_count": 9,
   "metadata": {},
   "outputs": [],
   "source": [
    "def experiment(epsilon, randommess, trials = 1000):\n",
    "    ''' The Monte Carlo method.'''\n",
    "    T = 1\n",
    "    K = 99\n",
    "    r = 0.06\n",
    "    S0 = 100 + epsilon\n",
    "    sigma = 0.2\n",
    "\n",
    "#     time0 = time.time()\n",
    "\n",
    "    monte_total = []\n",
    "    iters = 1\n",
    "    for i in range(iters):\n",
    "        monte_results = monte_carlo_option(trials, K, S0, r, sigma, T, randommess)\n",
    "        # print(time.time() - time0)\n",
    "\n",
    "        # Mean \n",
    "        monte_mean = np.mean(monte_results)\n",
    "        monte_total.append(monte_mean)\n",
    "\n",
    "    return monte_total"
   ]
  },
  {
   "cell_type": "code",
   "execution_count": 10,
   "metadata": {},
   "outputs": [],
   "source": [
    "def euler(epsilon, trials, randommess = np.random.normal(size=1000), sameseed = True):    \n",
    "    bumped = np.mean(experiment(epsilon, randommess, trials))\n",
    "    if not sameseed:\n",
    "        randommess = np.random.normal(size=number_of_trials)\n",
    "    unbumped = np.mean(experiment(0, randommess, trials))\n",
    "    \n",
    "    delta = (bumped - unbumped) / epsilon\n",
    "    return delta"
   ]
  },
  {
   "cell_type": "code",
   "execution_count": 11,
   "metadata": {},
   "outputs": [],
   "source": [
    "\"\"\" Compute deltas for different seeds\n",
    "    with epsilon 0.01, 0.02, 0.5. \"\"\"\n",
    "\n",
    "# Size 10^4\n",
    "number_of_trials = int(1e4)\n",
    "randommess = np.random.normal(size= number_of_trials)\n",
    "dif_delta4_1 = euler(1e-2, trials = number_of_trials, randommess = randommess, sameseed=False)\n",
    "dif_delta4_2 = euler(2e-2, trials = number_of_trials, randommess = randommess, sameseed=False)\n",
    "# dif_delta4_5 = euler(5e-1, trials = number_of_trials, randommess = randommess, sameseed=False)\n",
    "\n",
    "# # Size 10^5\n",
    "# number_of_trials = int(1e5)\n",
    "# randommess = np.random.normal(size=number_of_trials)\n",
    "# dif_delta5_1 = euler(1e-2, trials = number_of_trials, randommess = randommess, sameseed=False)\n",
    "# dif_delta5_2 = euler(2e-2, trials = number_of_trials, randommess = randommess, sameseed=False)\n",
    "# dif_delta5_5 = euler(5e-1, trials = number_of_trials, randommess = randommess, sameseed=False)\n",
    "\n",
    "# # Size 10^6\n",
    "# number_of_trials = int(1e6)\n",
    "# randommess = np.random.normal(size=number_of_trials)\n",
    "# dif_delta6_1 = euler(1e-2, trials = number_of_trials, randommess = randommess, sameseed=False)\n",
    "# dif_delta6_2 = euler(2e-2, trials = number_of_trials, randommess = randommess, sameseed=False)\n",
    "# dif_delta6_5 = euler(5e-1, trials = number_of_trials, randommess = randommess, sameseed=False)\n",
    "\n",
    "# # Size 10^7\n",
    "# number_of_trials = int(1e7)\n",
    "# randommess = np.random.normal(size=number_of_trials)\n",
    "# dif_delta7_1 = euler(1e-2, trials = number_of_trials, randommess = randommess, sameseed=False)\n",
    "# dif_delta7_2 = euler(2e-2, trials = number_of_trials, randommess = randommess, sameseed=False)\n",
    "# dif_delta7_5 = euler(5e-1, trials = number_of_trials, randommess = randommess, sameseed=False)"
   ]
  },
  {
   "cell_type": "code",
   "execution_count": 12,
   "metadata": {},
   "outputs": [],
   "source": [
    "# \"\"\" Compute deltas for same seed \n",
    "#     with epsilon 0.01, 0.02, 0.5. \"\"\"\n",
    "\n",
    "# Size 10^4\n",
    "number_of_trials = int(1e4)\n",
    "randommess = np.random.normal(size=number_of_trials)\n",
    "same_delta4_1 = euler(1e-2, trials = number_of_trials, randommess = randommess, sameseed=True)\n",
    "same_delta4_2 = euler(2e-2, trials = number_of_trials, randommess = randommess, sameseed=True)\n",
    "same_delta4_5 = euler(5e-1, trials = number_of_trials, randommess = randommess, sameseed=True)\n",
    "\n",
    "# # Size 10^5\n",
    "# number_of_trials = int(1e5)\n",
    "# randommess = np.random.normal(size=number_of_trials)\n",
    "# same_delta5_1 = euler(1e-2, trials = number_of_trials, randommess = randommess, sameseed=True)\n",
    "# same_delta5_2 = euler(2e-2, trials = number_of_trials, randommess = randommess, sameseed=True)\n",
    "# same_delta5_5 = euler(5e-1, trials = number_of_trials, randommess = randommess, sameseed=True)\n",
    "\n",
    "# # Size 10^6\n",
    "# number_of_trials = int(1e6)\n",
    "# randommess = np.random.normal(size=number_of_trials)\n",
    "# same_delta6_1 = euler(1e-2, trials = number_of_trials, randommess = randommess, sameseed=True)\n",
    "# same_delta6_2 = euler(2e-2, trials = number_of_trials, randommess = randommess, sameseed=True)\n",
    "# same_delta6_5 = euler(5e-1, trials = number_of_trials, randommess = randommess, sameseed=True)\n",
    "\n",
    "# # Size 10^7\n",
    "# number_of_trials = int(1e7)\n",
    "# randommess = np.random.normal(size=number_of_trials)\n",
    "# same_delta7_1 = euler(1e-2, trials = number_of_trials, randommess = randommess, sameseed=True)\n",
    "# same_delta7_2 = euler(2e-2, trials = number_of_trials, randommess = randommess, sameseed=True)\n",
    "# same_delta7_5 = euler(5e-1, trials = number_of_trials, randommess = randommess, sameseed=True)"
   ]
  },
  {
   "cell_type": "code",
   "execution_count": 18,
   "metadata": {},
   "outputs": [],
   "source": [
    "\"\"\" Relative error in percentage. \"\"\"\n",
    "def relative_error(true_value, approx_value):\n",
    "    return ((true_value - approx_value) / true_value) * 100"
   ]
  },
  {
   "cell_type": "code",
   "execution_count": 21,
   "metadata": {},
   "outputs": [
    {
     "name": "stdout",
     "output_type": "stream",
     "text": [
      "Check -0.3244055690743153\n",
      "analytical value: -0.326265\n",
      "calculated value -0.3302506584851095\n",
      "Error -1.221601607622471\n"
     ]
    }
   ],
   "source": [
    "'''Analytical value'''\n",
    "def black_scholes(stock_price = 100, strike_price = 80, interest_rate = 0.06, volatility = 0.2, T = 1):\n",
    "    d1 = (math.log(stock_price / strike_price) + (interest_rate + (volatility ** 2) / 2) * T) / (volatility * math.sqrt(T))\n",
    "    #d2 = d1 - volatility* math.sqrt(T)\n",
    "    d2 = (math.log(stock_price / strike_price) + (interest_rate - (volatility ** 2) / 2) * T) / (volatility * math.sqrt(T))\n",
    "   \n",
    "    call = stock_price * norm.cdf(d1) - strike_price * math.exp(- interest_rate * T) * norm.cdf(d2)\n",
    "    put = strike_price * math.exp(-interest_rate * T ) * norm.cdf(-d2) - stock_price * norm.cdf(-d1)\n",
    "\n",
    "    return call, put\n",
    "\n",
    "\n",
    "\"\"\" Relative error is shown with analytical value as reference. \"\"\"\n",
    "\n",
    "#The analytical value\n",
    "analytical_call, analytical_put = black_scholes()\n",
    "# print('The analytical price of the option:', analytical_put)\n",
    "\n",
    "#######\n",
    "# print(dif_delta4_1)\n",
    "# print(dif_delta4_2)\n",
    "\n",
    "number_of_trials = 100000\n",
    "randommess = np.random.normal(size=number_of_trials)\n",
    "# print(len(randommess))\n",
    "check = euler(1e-8, trials = number_of_trials, randommess = randommess, sameseed=True)\n",
    "print('Check', check)\n",
    "#####\n",
    "\n",
    "# Size 10^4\n",
    "number_of_trials = int(1e4)\n",
    "randommess = np.random.normal(size=number_of_trials)\n",
    "same_delta4_1 = euler(1e-2, trials = number_of_trials, randommess = randommess, sameseed=True)\n",
    "same_delta4_2 = euler(2e-2, trials = number_of_trials, randommess = randommess, sameseed=True)\n",
    "same_delta4_5 = euler(5e-1, trials = number_of_trials, randommess = randommess, sameseed=True)\n",
    "\n",
    "####\n",
    "analytical_value = -0.326265\n",
    "print('analytical value:', analytical_value)\n",
    "print('calculated value', same_delta4_1)\n",
    "error = relative_error(analytical_value, same_delta4_1)\n",
    "print('Error', error)"
   ]
  },
  {
   "cell_type": "code",
   "execution_count": null,
   "metadata": {},
   "outputs": [],
   "source": []
  },
  {
   "cell_type": "code",
   "execution_count": 22,
   "metadata": {},
   "outputs": [
    {
     "name": "stdout",
     "output_type": "stream",
     "text": [
      "The analytical price of the option: 0.6126580614975463\n",
      "-0.32640699032526754\n",
      "153.27718850665525\n"
     ]
    }
   ],
   "source": [
    "\"\"\" Relative error is shown with analytical value as reference. \"\"\"\n",
    "\n",
    "#The analytical value\n",
    "analytical_call, analytical_put = black_scholes()\n",
    "print('The analytical price of the option:', analytical_put)\n",
    "\n",
    "#######\n",
    "# print(dif_delta4_1)\n",
    "# print(dif_delta4_2)\n",
    "\n",
    "number_of_trials = 100000\n",
    "randommess = np.random.normal(size=number_of_trials)\n",
    "# print(len(randommess))\n",
    "check = euler(1e-8, trials = number_of_trials, randommess = randommess, sameseed=True)\n",
    "print(check)\n",
    "\n",
    "####\n",
    "error = relative_error(analytical_put, check)\n",
    "print(error)"
   ]
  },
  {
   "cell_type": "markdown",
   "metadata": {},
   "source": [
    "## 2)  Digital option"
   ]
  },
  {
   "cell_type": "code",
   "execution_count": 23,
   "metadata": {},
   "outputs": [],
   "source": [
    "import scipy"
   ]
  },
  {
   "cell_type": "code",
   "execution_count": 54,
   "metadata": {},
   "outputs": [],
   "source": [
    "def experiment2(epsilon, trials = 1000):\n",
    "    ''' The Monte Carlo method.'''\n",
    "    T = 1\n",
    "    K = 100\n",
    "    r = 0\n",
    "    S0 = 100 + epsilon\n",
    "    sigma = 0.2\n",
    "\n",
    "#     time0 = time.time()\n",
    "\n",
    "    monte_total = []\n",
    "    newglobel = []\n",
    "    iters = 10000\n",
    "    for i in range(iters):\n",
    "        randommess = np.random.normal(size = trials)\n",
    "        monte_results = digital_option(trials, K, S0, r, sigma, T, randommess)\n",
    "        newglobel.append(monte_results[1])\n",
    "        # print(time.time() - time0)\n",
    "\n",
    "        monte_mean = np.mean(monte_results[0])\n",
    "        monte_total.append(monte_mean)\n",
    "\n",
    "    return monte_total\n",
    "\n",
    "#@jit (nopython = True)\n",
    "def digital_option(trials, strike_price, stock_price, interest_rate, volatility, maturity, randomness):\n",
    "    # trials are #iterations of monte carlo\n",
    "    globallist = []\n",
    "    monte_results = []\n",
    "    \n",
    "    acounter = 0\n",
    "    bcounter = 0\n",
    "    \n",
    "    for i in range(trials):\n",
    "        current_monte = one_step_stock(stock_price, interest_rate, volatility, maturity, randomness[i])\n",
    "        globallist.append(current_monte)\n",
    "        if current_monte - strike_price > 0:\n",
    "            monte_results.append(math.exp(-interest_rate * T))\n",
    "            acounter = acounter + 1\n",
    "        else:\n",
    "            monte_results.append(0)\n",
    "            bcounter = bcounter + 1\n",
    "    #print(acounter)\n",
    "    #print(bcounter)\n",
    "    #print()\n",
    "    #plt.hist(globallist)\n",
    "    #plt.show()\n",
    "    return monte_results, np.mean(globallist)\n",
    "\n",
    "#@jit (nopython = True)\n",
    "def one_step_stock(stock_price, interest_rate, volatility, maturity, Z):\n",
    "    return stock_price * math.exp((interest_rate - 0.5 * volatility ** 2) * maturity + volatility * math.sqrt(maturity) * Z)"
   ]
  },
  {
   "cell_type": "code",
   "execution_count": 55,
   "metadata": {},
   "outputs": [
    {
     "data": {
      "text/plain": [
       "(array([   4.,   78.,  424., 1388., 2936., 3141., 1556.,  388.,   80.,\n",
       "           5.]),\n",
       " array([0.395, 0.408, 0.421, 0.434, 0.447, 0.46 , 0.473, 0.486, 0.499,\n",
       "        0.512, 0.525]),\n",
       " <a list of 10 Patch objects>)"
      ]
     },
     "execution_count": 55,
     "metadata": {},
     "output_type": "execute_result"
    },
    {
     "data": {
      "image/png": "[encoded data removed]",
      "text/plain": [
       "<Figure size 432x288 with 1 Axes>"
      ]
     },
     "metadata": {},
     "output_type": "display_data"
    }
   ],
   "source": [
    "plt.hist(experiment2(0.0))"
   ]
  },
  {
   "cell_type": "code",
   "execution_count": 49,
   "metadata": {},
   "outputs": [],
   "source": [
    "def digital_optionJ(trials=100000, strike_price=99, stock_price=100, interest_rate=0.06, volatility=0.2, maturity=1):\n",
    "    randomness = np.random.normal(size = trials)\n",
    "    # trials are #iterations of monte carlo\n",
    "    globallist = []\n",
    "    monte_results = []\n",
    "    \n",
    "    for i in range(trials):\n",
    "        current_monte = one_step_stock(stock_price, interest_rate, volatility, maturity, randomness[i])\n",
    "        globallist.append(current_monte)\n",
    "        if current_monte - strike_price > 0:\n",
    "            monte_results.append(math.exp(-r * T) * current_monte / stock_price)\n",
    "        else:\n",
    "            monte_results.append(0)\n",
    "    return monte_results, np.mean(globallist)\n",
    "\n",
    "#@jit (nopython = True)\n",
    "def one_step_stockJ(stock_price, interest_rate, volatility, maturity, Z):\n",
    "    return stock_price * math.exp((interest_rate - 0.5 * volatility ** 2) * maturity + volatility * math.sqrt(maturity) * Z)"
   ]
  },
  {
   "cell_type": "code",
   "execution_count": 51,
   "metadata": {
    "scrolled": true
   },
   "outputs": [
    {
     "data": {
      "image/png": "[encoded data removed]",
      "text/plain": [
       "<Figure size 432x288 with 1 Axes>"
      ]
     },
     "metadata": {},
     "output_type": "display_data"
    }
   ],
   "source": [
    "delta_list = []\n",
    "for i in range(10000):\n",
    "    delta_list.append(np.mean(digital_optionJ()[0]))\n",
    "    \n",
    "plt.hist(delta_list)\n",
    "plt.show()\n"
   ]
  },
  {
   "cell_type": "markdown",
   "metadata": {},
   "source": [
    "# Part 3: Variance Reduction"
   ]
  },
  {
   "cell_type": "code",
   "execution_count": 125,
   "metadata": {},
   "outputs": [],
   "source": [
    "def asian_option_pathJ(N=100, strike_price=99, stock_price=100, interest_rate=0.06, volatility=0.2, maturity=1):\n",
    "    randomness = np.random.normal(size = N)\n",
    "    # trials are #iterations of monte carlo\n",
    "    Si = np.zeros(N + 1)\n",
    "    Si[0] = stock_price\n",
    "    \n",
    "    for i in range(N):\n",
    "    \n",
    "        Si[i+1] = one_step_stock(Si[i], interest_rate, volatility, 1/N, randomness[i])\n",
    "      \n",
    "    return np.max(np.prod(Si[1:])**(1/(N)))\n",
    "  \n",
    "\n",
    "def asian_option(t, stock_price, strike_price=99, interest_rate=0.06, volatility=0.2, maturity=1):\n",
    "    if t == maturity:\n",
    "        return np.max(stock_price - strike_price , 0)\n",
    "    \n",
    "    return \n",
    "    \n",
    "    \n",
    "#@jit (nopython = True)\n",
    "def one_step_stockJ(stock_price, interest_rate, volatility, maturity, Z):\n",
    "    return stock_price * math.exp((interest_rate - 0.5 * volatility ** 2) * maturity + volatility * math.sqrt(maturity) * Z)"
   ]
  },
  {
   "cell_type": "code",
   "execution_count": 129,
   "metadata": {},
   "outputs": [
    {
     "data": {
      "image/png": "[encoded data removed]",
      "text/plain": [
       "<Figure size 432x288 with 1 Axes>"
      ]
     },
     "metadata": {},
     "output_type": "display_data"
    },
    {
     "name": "stdout",
     "output_type": "stream",
     "text": [
      "102.73385146265711\n"
     ]
    }
   ],
   "source": [
    "asian_call = []\n",
    "for _ in range(1000000):\n",
    "    asian_call.append(asian_option_pathJ())\n",
    "plt.hist(asian_call)\n",
    "plt.show()\n",
    "print(np.mean(asian_call))"
   ]
  },
  {
   "cell_type": "code",
   "execution_count": 127,
   "metadata": {},
   "outputs": [],
   "source": [
    "def analytic_solution(start_price = 100, T = 1, N = 100, r = 0.06, sigma = 0.2):\n",
    "    mu = (r - 0.5 * sigma**2) * (N + 1) / (2 * N) * T\n",
    "    sig = sigma**2 * ((N + 1) * (2 * N + 1) / (6 * N**2) * T)\n",
    "    return  start_price * math.exp(mu + sig**2/2)\n",
    "    "
   ]
  },
  {
   "cell_type": "code",
   "execution_count": 111,
   "metadata": {},
   "outputs": [
    {
     "data": {
      "text/plain": [
       "102.04988583777359"
      ]
     },
     "execution_count": 111,
     "metadata": {},
     "output_type": "execute_result"
    }
   ],
   "source": [
    "analytic_solution()"
   ]
  },
  {
   "cell_type": "code",
   "execution_count": null,
   "metadata": {},
   "outputs": [],
   "source": []
  },
  {
   "cell_type": "code",
   "execution_count": null,
   "metadata": {},
   "outputs": [],
   "source": []
  },
  {
   "cell_type": "code",
   "execution_count": null,
   "metadata": {},
   "outputs": [],
   "source": []
  },
  {
   "cell_type": "code",
   "execution_count": null,
   "metadata": {},
   "outputs": [],
   "source": []
  },
  {
   "cell_type": "code",
   "execution_count": null,
   "metadata": {},
   "outputs": [],
   "source": []
  },
  {
   "cell_type": "code",
   "execution_count": null,
   "metadata": {},
   "outputs": [],
   "source": []
  },
  {
   "cell_type": "code",
   "execution_count": null,
   "metadata": {},
   "outputs": [],
   "source": []
  }
 ],
 "metadata": {
  "kernelspec": {
   "display_name": "Python 3",
   "language": "python",
   "name": "python3"
  },
  "language_info": {
   "codemirror_mode": {
    "name": "ipython",
    "version": 3
   },
   "file_extension": ".py",
   "mimetype": "text/x-python",
   "name": "python",
   "nbconvert_exporter": "python",
   "pygments_lexer": "ipython3",
   "version": "3.6.5"
  }
 },
 "nbformat": 4,
 "nbformat_minor": 2
}
