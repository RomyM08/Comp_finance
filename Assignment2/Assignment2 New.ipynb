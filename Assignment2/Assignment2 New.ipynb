{
 "cells": [
  {
   "cell_type": "markdown",
   "metadata": {},
   "source": [
    "# Part 1: Basic Option Valuation\n",
    "Carry out convergence studies by increasing the number of trials.  <br>\n",
    "How do your results compare with the results obtained in assignment 1?  <br>\n",
    "Perform numerical tests for varying values for the strike and the volatility parameter.  <br>\n",
    "What is the standard error of your estimate and what does this tell you about the accuracy?"
   ]
  },
  {
   "cell_type": "markdown",
   "metadata": {},
   "source": [
    "# TO DO \n",
    "### Romy:\n",
    "- Maakt tabellen 2.1 + BS delta berekening\n",
    "- Overleaf intro schrijven\n",
    "\n",
    "### Jasper:\n",
    "- [ ] 1 alle plotjes voor 1\n",
    "- [ ] 2.2 pathwise controle\n",
    "- [ ] 3 formules\n",
    "- [ ] 3 coderen Asian option\n",
    "\n",
    "### Steven:\n",
    "- 2.2 sameseed/different seed allebei?\n",
    "- pathwise bullshit\n",
    "- Begin bij S0 of S1"
   ]
  },
  {
   "cell_type": "code",
   "execution_count": null,
   "metadata": {},
   "outputs": [],
   "source": [
    "import numpy as np\n",
    "import matplotlib.pyplot as plt\n",
    "import math\n",
    "import time\n",
    "import random\n",
    "\n",
    "from scipy.stats import norm\n",
    "from numba import jit\n",
    "from scipy import stats"
   ]
  },
  {
   "cell_type": "code",
   "execution_count": null,
   "metadata": {},
   "outputs": [],
   "source": [
    "# THIS IS NOW A PUT OPTION!\n",
    "\n",
    "@jit (nopython = True)\n",
    "def one_step_stock(stock_price, interest_rate, volatility, maturity):\n",
    "    return stock_price * math.exp((interest_rate - 0.5 * volatility ** 2) * maturity + volatility * math.sqrt(maturity) * np.random.normal())\n",
    "\n",
    "@jit (nopython = True)\n",
    "def monte_carlo_option(trials, strike_price, stock_price, interest_rate, volatility, maturity):\n",
    "    # trials are #iterations of monte carlo\n",
    "    monte_results = []\n",
    "    for i in range(trials):\n",
    "        current_monte = one_step_stock(stock_price, interest_rate, volatility, maturity)\n",
    "        if current_monte - strike_price < 0:\n",
    "            monte_results.append((strike_price - current_monte) * math.exp(-interest_rate))\n",
    "        else:\n",
    "            monte_results.append(0)\n",
    "        \n",
    "    return monte_results \n",
    "    "
   ]
  },
  {
   "cell_type": "code",
   "execution_count": null,
   "metadata": {},
   "outputs": [],
   "source": [
    "@jit (nopython = True)\n",
    "def experiment():\n",
    "    ''' The Monte Carlo method.'''\n",
    "    T = 1\n",
    "    K = 99\n",
    "    r = 0.06\n",
    "    S0 = 100\n",
    "    sigma = 0.2\n",
    "\n",
    "    trials = 10000\n",
    "#     time0 = time.time()\n",
    "\n",
    "    monte_total = []\n",
    "    iters = 10000\n",
    "    for i in range(iters):\n",
    "        monte_results = monte_carlo_option(trials, K, S0, r, sigma, T)\n",
    "        # print(time.time() - time0)\n",
    "\n",
    "        # Mean and std\n",
    "        monte_mean = np.mean(np.array(monte_results))\n",
    "        monte_total.append(monte_mean)\n",
    "    # monte_std = np.std(monte_results)\n",
    "    return monte_total"
   ]
  },
  {
   "cell_type": "code",
   "execution_count": null,
   "metadata": {},
   "outputs": [],
   "source": [
    "results = experiment()"
   ]
  },
  {
   "cell_type": "code",
   "execution_count": null,
   "metadata": {},
   "outputs": [],
   "source": [
    "np.mean(results)"
   ]
  },
  {
   "cell_type": "code",
   "execution_count": null,
   "metadata": {
    "scrolled": true
   },
   "outputs": [],
   "source": [
    "#Payoff kan nooit negatief zijn \n",
    "CI95 = stats.norm.interval(0.95, loc = np.mean(results), scale = np.std(results)) \n",
    "plt.axvline(CI95[0], color = 'r', label = '95% CI')\n",
    "#plt.axvline(4.77, color = 'black', linestyle = ':', label = 'Black-Scholes Price')\n",
    "plt.axvline(CI95[1], color = 'r')\n",
    "\n",
    "plt.legend()\n",
    "plt.hist(results, bins = 30)\n",
    "plt.ylabel('Observations')\n",
    "plt.xlabel('Option price')\n",
    "plt.title('Price of a put option (100000 trials)')\n",
    "plt.savefig(\"100000trialsQ21Put.png\")\n",
    "plt.show()"
   ]
  },
  {
   "cell_type": "code",
   "execution_count": null,
   "metadata": {},
   "outputs": [],
   "source": [
    "# '''  Varying the strike and the volatility. '''\n",
    "\n",
    "# strike_list = [x for x in range(1,201)] #np.linspace(1,200)\n",
    "# # print(strike_list)\n",
    "\n",
    "# profit_list = []\n",
    "# for K in strike_list:\n",
    "#     profit = monte_carlo_option(trials, K, S0, r, sigma, T)\n",
    "#     profit_list.append(profit)\n",
    "     \n",
    "# plt.plot(strike_list, profit)\n",
    "# plt.title('Varying strike')\n",
    "# plt.xlabel('Strike price')\n",
    "# plt.ylabel('Profit or Loss')\n",
    "# plt.legend()\n",
    "# plt.show()"
   ]
  },
  {
   "cell_type": "markdown",
   "metadata": {},
   "source": [
    "# Part 2: Estimation of Sensitivities in MC"
   ]
  },
  {
   "cell_type": "markdown",
   "metadata": {},
   "source": [
    "## 1) Bump-and-revalue method."
   ]
  },
  {
   "cell_type": "code",
   "execution_count": null,
   "metadata": {},
   "outputs": [],
   "source": [
    "@jit (nopython = True)\n",
    "def one_step_stock(stock_price, interest_rate, volatility, maturity, Z):\n",
    "    return stock_price * math.exp((interest_rate - 0.5 * volatility ** 2) * maturity + volatility * math.sqrt(maturity) * Z)\n",
    "\n",
    "@jit (nopython = True)\n",
    "def monte_carlo_option(trials, strike_price, stock_price, interest_rate, volatility, maturity, randomness):\n",
    "    # trials are #iterations of monte carlo\n",
    "    monte_results = []\n",
    "    for i in range(trials):\n",
    "        current_monte = one_step_stock(stock_price, interest_rate, volatility, maturity, randomness[i])\n",
    "        if strike_price - current_monte > 0:\n",
    "            monte_results.append((strike_price - current_monte) * math.exp(-interest_rate))\n",
    "        else:\n",
    "            monte_results.append(0)\n",
    "        \n",
    "    return monte_results \n",
    "    "
   ]
  },
  {
   "cell_type": "code",
   "execution_count": null,
   "metadata": {},
   "outputs": [],
   "source": [
    "# @jit (nopython = True)\n",
    "def experiment(epsilon, trials, seedlist):\n",
    "    ''' The Monte Carlo method.'''\n",
    "    T = 1\n",
    "    K = 99\n",
    "    r = 0.06\n",
    "    S0 = 100 + epsilon\n",
    "    sigma = 0.2\n",
    "\n",
    "    monte_total = []\n",
    "    for i in range(trials):\n",
    "        np.random.seed(seedlist[i])\n",
    "        randommess = np.random.normal(size = trials)\n",
    "        monte_results = monte_carlo_option(trials, K, S0, r, sigma, T, randommess)\n",
    "        # Mean \n",
    "        monte_mean = np.mean(np.array(monte_results))\n",
    "        monte_total.append(monte_mean)\n",
    "\n",
    "    return monte_total"
   ]
  },
  {
   "cell_type": "code",
   "execution_count": null,
   "metadata": {},
   "outputs": [],
   "source": [
    "def euler(epsilon, trials, sameseed):    \n",
    "    if sameseed == True:\n",
    "        seedlist = np.random.randint(1000, size = trials)\n",
    "        \n",
    "        bumped = np.mean(np.array(experiment(epsilon, trials, seedlist)))\n",
    "        unbumped = np.mean(np.array(experiment(0, trials, seedlist)))\n",
    "    else:\n",
    "        \n",
    "        seedlist = np.random.randint(1000, size = trials)\n",
    "        bumped = np.mean(np.array(experiment(epsilon, trials, seedlist)))\n",
    "        \n",
    "        seedlist = np.random.randint(1000, size = trials)\n",
    "        unbumped = np.mean(np.array(experiment(0, trials, seedlist)))\n",
    "    \n",
    "    print(unbumped)\n",
    "    print(bumped)\n",
    "    delta = (bumped - unbumped) / epsilon\n",
    "    \n",
    "    return delta"
   ]
  },
  {
   "cell_type": "code",
   "execution_count": null,
   "metadata": {},
   "outputs": [],
   "source": [
    "\"\"\" Compute deltas for different seeds\n",
    "    with epsilon 0.01, 0.02, 0.5. \"\"\"\n",
    "\n",
    "# Size 10^4\n",
    "number_of_trials = int(1e4)\n",
    "dif_delta4_1 = euler(1e-2, number_of_trials, True)\n",
    "# dif_delta4_2 = euler(2e-2, trials = number_of_trials, randommess = randommess, sameseed=False)\n",
    "# dif_delta4_5 = euler(5e-1, trials = number_of_trials, randommess = randommess, sameseed=False)\n",
    "\n",
    "# # Size 10^5\n",
    "# number_of_trials = int(1e5)\n",
    "# randommess = np.random.normal(size=number_of_trials)\n",
    "# dif_delta5_1 = euler(1e-2, trials = number_of_trials, randommess = randommess, sameseed=False)\n",
    "# dif_delta5_2 = euler(2e-2, trials = number_of_trials, randommess = randommess, sameseed=False)\n",
    "# dif_delta5_5 = euler(5e-1, trials = number_of_trials, randommess = randommess, sameseed=False)\n",
    "\n",
    "# # Size 10^6\n",
    "# number_of_trials = int(1e6)\n",
    "# randommess = np.random.normal(size=number_of_trials)\n",
    "# dif_delta6_1 = euler(1e-2, trials = number_of_trials, randommess = randommess, sameseed=False)\n",
    "# dif_delta6_2 = euler(2e-2, trials = number_of_trials, randommess = randommess, sameseed=False)\n",
    "# dif_delta6_5 = euler(5e-1, trials = number_of_trials, randommess = randommess, sameseed=False)\n",
    "\n",
    "# # Size 10^7\n",
    "# number_of_trials = int(1e7)\n",
    "# randommess = np.random.normal(size=number_of_trials)\n",
    "# dif_delta7_1 = euler(1e-2, trials = number_of_trials, randommess = randommess, sameseed=False)\n",
    "# dif_delta7_2 = euler(2e-2, trials = number_of_trials, randommess = randommess, sameseed=False)\n",
    "# dif_delta7_5 = euler(5e-1, trials = number_of_trials, randommess = randommess, sameseed=False)"
   ]
  },
  {
   "cell_type": "code",
   "execution_count": null,
   "metadata": {},
   "outputs": [],
   "source": [
    "print(dif_delta4_1)\n",
    "print(-0.326265)"
   ]
  },
  {
   "cell_type": "code",
   "execution_count": null,
   "metadata": {},
   "outputs": [],
   "source": [
    "relative_error(-0.326265, dif_delta4_1)"
   ]
  },
  {
   "cell_type": "code",
   "execution_count": null,
   "metadata": {},
   "outputs": [],
   "source": [
    "# \"\"\" Compute deltas for same seed \n",
    "#     with epsilon 0.01, 0.02, 0.5. \"\"\"\n",
    "\n",
    "# Size 10^4\n",
    "number_of_trials = int(1e4)\n",
    "randommess = np.random.normal(size=number_of_trials)\n",
    "same_delta4_1 = euler(1e-2, trials = number_of_trials, randommess = randommess, sameseed=True)\n",
    "same_delta4_2 = euler(2e-2, trials = number_of_trials, randommess = randommess, sameseed=True)\n",
    "same_delta4_5 = euler(5e-1, trials = number_of_trials, randommess = randommess, sameseed=True)\n",
    "\n",
    "# # Size 10^5\n",
    "# number_of_trials = int(1e5)\n",
    "# randommess = np.random.normal(size=number_of_trials)\n",
    "# same_delta5_1 = euler(1e-2, trials = number_of_trials, randommess = randommess, sameseed=True)\n",
    "# same_delta5_2 = euler(2e-2, trials = number_of_trials, randommess = randommess, sameseed=True)\n",
    "# same_delta5_5 = euler(5e-1, trials = number_of_trials, randommess = randommess, sameseed=True)\n",
    "\n",
    "# # Size 10^6\n",
    "# number_of_trials = int(1e6)\n",
    "# randommess = np.random.normal(size=number_of_trials)\n",
    "# same_delta6_1 = euler(1e-2, trials = number_of_trials, randommess = randommess, sameseed=True)\n",
    "# same_delta6_2 = euler(2e-2, trials = number_of_trials, randommess = randommess, sameseed=True)\n",
    "# same_delta6_5 = euler(5e-1, trials = number_of_trials, randommess = randommess, sameseed=True)\n",
    "\n",
    "# # Size 10^7\n",
    "# number_of_trials = int(1e7)\n",
    "# randommess = np.random.normal(size=number_of_trials)\n",
    "# same_delta7_1 = euler(1e-2, trials = number_of_trials, randommess = randommess, sameseed=True)\n",
    "# same_delta7_2 = euler(2e-2, trials = number_of_trials, randommess = randommess, sameseed=True)\n",
    "# same_delta7_5 = euler(5e-1, trials = number_of_trials, randommess = randommess, sameseed=True)"
   ]
  },
  {
   "cell_type": "code",
   "execution_count": null,
   "metadata": {},
   "outputs": [],
   "source": [
    "\"\"\" Relative error in percentage. \"\"\"\n",
    "def relative_error(true_value, approx_value):\n",
    "    return ((true_value - approx_value) / true_value) * 100"
   ]
  },
  {
   "cell_type": "code",
   "execution_count": null,
   "metadata": {},
   "outputs": [],
   "source": [
    "'''Analytical value'''\n",
    "def black_scholes(stock_price = 100, strike_price = 80, interest_rate = 0.06, volatility = 0.2, T = 1):\n",
    "    d1 = (math.log(stock_price / strike_price) + (interest_rate + (volatility ** 2) / 2) * T) / (volatility * math.sqrt(T))\n",
    "    #d2 = d1 - volatility* math.sqrt(T)\n",
    "    d2 = (math.log(stock_price / strike_price) + (interest_rate - (volatility ** 2) / 2) * T) / (volatility * math.sqrt(T))\n",
    "   \n",
    "    call = stock_price * norm.cdf(d1) - strike_price * math.exp(- interest_rate * T) * norm.cdf(d2)\n",
    "    put = strike_price * math.exp(-interest_rate * T ) * norm.cdf(-d2) - stock_price * norm.cdf(-d1)\n",
    "\n",
    "    return call, put\n",
    "\n",
    "\n",
    "\"\"\" Relative error is shown with analytical value as reference. \"\"\"\n",
    "\n",
    "#The analytical value\n",
    "analytical_call, analytical_put = black_scholes()\n",
    "# print('The analytical price of the option:', analytical_put)\n",
    "\n",
    "#######\n",
    "# print(dif_delta4_1)\n",
    "# print(dif_delta4_2)\n",
    "\n",
    "number_of_trials = 100000\n",
    "randommess = np.random.normal(size=number_of_trials)\n",
    "# print(len(randommess))\n",
    "check = euler(1e-8, trials = number_of_trials, randommess = randommess, sameseed=True)\n",
    "print('Check', check)\n",
    "#####\n",
    "\n",
    "# Size 10^4\n",
    "number_of_trials = int(1e4)\n",
    "randommess = np.random.normal(size=number_of_trials)\n",
    "same_delta4_1 = euler(1e-2, trials = number_of_trials, randommess = randommess, sameseed=True)\n",
    "same_delta4_2 = euler(2e-2, trials = number_of_trials, randommess = randommess, sameseed=True)\n",
    "same_delta4_5 = euler(5e-1, trials = number_of_trials, randommess = randommess, sameseed=True)\n",
    "\n",
    "####\n",
    "analytical_value = -0.326265\n",
    "print('analytical value:', analytical_value)\n",
    "print('calculated value', same_delta4_1)\n",
    "error = relative_error(analytical_value, same_delta4_1)\n",
    "print('Error', error)"
   ]
  },
  {
   "cell_type": "code",
   "execution_count": null,
   "metadata": {},
   "outputs": [],
   "source": []
  },
  {
   "cell_type": "code",
   "execution_count": null,
   "metadata": {},
   "outputs": [],
   "source": [
    "\"\"\" Relative error is shown with analytical value as reference. \"\"\"\n",
    "\n",
    "#The analytical value\n",
    "analytical_call, analytical_put = black_scholes()\n",
    "print('The analytical price of the option:', analytical_put)\n",
    "\n",
    "#######\n",
    "# print(dif_delta4_1)\n",
    "# print(dif_delta4_2)\n",
    "\n",
    "number_of_trials = 100000\n",
    "randommess = np.random.normal(size=number_of_trials)\n",
    "# print(len(randommess))\n",
    "check = euler(1e-8, trials = number_of_trials, randommess = randommess, sameseed=True)\n",
    "print(check)\n",
    "\n",
    "####\n",
    "error = relative_error(analytical_put, check)\n",
    "print(error)"
   ]
  },
  {
   "cell_type": "markdown",
   "metadata": {},
   "source": [
    "## 2)  Digital option"
   ]
  },
  {
   "cell_type": "code",
   "execution_count": null,
   "metadata": {},
   "outputs": [],
   "source": [
    "import scipy"
   ]
  },
  {
   "cell_type": "code",
   "execution_count": null,
   "metadata": {},
   "outputs": [],
   "source": [
    "def experiment2(epsilon, trials, seedlist):\n",
    "    ''' The Monte Carlo method.'''\n",
    "    T = 1\n",
    "    K = 99\n",
    "    S0 = 100 + epsilon\n",
    "    sigma = 0.2\n",
    "    r = 0.06\n",
    "\n",
    "    monte_total = []\n",
    "    for i in range(trials):\n",
    "        np.random.seed(seedlist[i])\n",
    "        randommess = np.random.normal(size = trials)\n",
    "        monte_results = digital_option(trials, K, S0, r, sigma, T, randommess)\n",
    "\n",
    "        monte_mean = np.mean(monte_results)\n",
    "        monte_total.append(monte_mean)\n",
    "\n",
    "    return monte_total\n",
    "\n",
    "@jit (nopython = True)\n",
    "def digital_option(trials, strike_price, stock_price, interest_rate, volatility, maturity, randomness):\n",
    "    # trials are #iterations of monte carlo\n",
    "    monte_results = []\n",
    "\n",
    "    for i in range(trials):\n",
    "        current_monte = one_step_stock(stock_price, interest_rate, volatility, maturity, randomness[i])\n",
    "        if current_monte - strike_price > 0:\n",
    "            \n",
    "            monte_results.append(1 * math.exp(-interest_rate))\n",
    "        else:\n",
    "            monte_results.append(0)\n",
    "\n",
    "    return monte_results\n",
    "\n",
    "@jit (nopython = True)\n",
    "def one_step_stock(stock_price, interest_rate, volatility, maturity, Z):\n",
    "    return stock_price * math.exp((interest_rate - 0.5 * volatility ** 2) * maturity + volatility * math.sqrt(maturity) * Z)"
   ]
  },
  {
   "cell_type": "code",
   "execution_count": null,
   "metadata": {},
   "outputs": [],
   "source": [
    "trials = 1000\n",
    "digital_value = experiment2(0.0, trials, np.random.randint(1000, size = trials))"
   ]
  },
  {
   "cell_type": "code",
   "execution_count": null,
   "metadata": {},
   "outputs": [],
   "source": [
    "plt.hist(digital_value)\n",
    "plt.title('Value of a digital option')\n",
    "plt.ylabel('Observations')\n",
    "plt.xlabel('Value')\n",
    "plt.show()"
   ]
  },
  {
   "cell_type": "code",
   "execution_count": null,
   "metadata": {},
   "outputs": [],
   "source": [
    "def euler(epsilon, trials, sameseed):    \n",
    "    if sameseed == True:\n",
    "        seedlist = np.random.randint(1000, size = trials)\n",
    "        \n",
    "        bumped = np.mean(np.array(experiment2(epsilon, trials, seedlist)))\n",
    "        unbumped = np.mean(np.array(experiment2(0, trials, seedlist)))\n",
    "    else:\n",
    "        \n",
    "        seedlist = np.random.randint(1000, size = trials)\n",
    "        bumped = np.mean(np.array(experiment2(epsilon, trials, seedlist)))\n",
    "        \n",
    "        seedlist = np.random.randint(1000, size = trials)\n",
    "        unbumped = np.mean(np.array(experiment2(0, trials, seedlist)))\n",
    "    \n",
    "    print(unbumped)\n",
    "    print(bumped)\n",
    "    delta = (bumped - unbumped) / epsilon\n",
    "    \n",
    "    return delta"
   ]
  },
  {
   "cell_type": "code",
   "execution_count": null,
   "metadata": {},
   "outputs": [],
   "source": [
    "euler(0.01, 1000, True)"
   ]
  },
  {
   "cell_type": "markdown",
   "metadata": {},
   "source": [
    "### Sophisticated Log part"
   ]
  },
  {
   "cell_type": "code",
   "execution_count": null,
   "metadata": {},
   "outputs": [],
   "source": [
    "@jit (nopython = True)\n",
    "def log_digital_delta(iterations):\n",
    "    delta_list = []\n",
    "    for j in range(iterations):\n",
    "        Z = np.random.normal()\n",
    "\n",
    "        current_stock = start_stock * math.exp((interest_rate - (volatility ** 2) / 2) * maturity + volatility * (maturity ** 0.5) * Z)\n",
    "\n",
    "        digital = 0\n",
    "        if current_stock > strike_price:\n",
    "            digital = 1\n",
    "        delta_list.append(math.exp(-interest_rate * maturity) * digital * (Z / (volatility * start_stock * (maturity ** 0.5))))\n",
    "    return delta_list\n",
    "\n",
    "@jit (nopython = True)\n",
    "def runs(iters):\n",
    "    mean_list = []\n",
    "    for i in range(iters):\n",
    "        mean_list.append(np.mean(np.array(log_digital_delta(10000))))\n",
    "    return mean_list"
   ]
  },
  {
   "cell_type": "code",
   "execution_count": null,
   "metadata": {},
   "outputs": [],
   "source": [
    "start_stock = 100\n",
    "interest_rate = 0.06\n",
    "volatility = 0.2\n",
    "maturity = 1\n",
    "strike_price = 99\n",
    "delta_list = runs(10000)\n"
   ]
  },
  {
   "cell_type": "code",
   "execution_count": null,
   "metadata": {},
   "outputs": [],
   "source": [
    "#Payoff kan nooit negatief zijn \n",
    "CI95 = stats.norm.interval(0.95, loc = np.mean(delta_list), scale = np.std(delta_list)) \n",
    "plt.axvline(CI95[0], color = 'r', label = '95% CI')\n",
    "plt.axvline(CI95[1], color = 'r')\n",
    "plt.axvline(np.mean(delta_list), color = 'black', label = 'Mean = {0}'.format(np.mean(delta_list).round(5)))\n",
    "plt.legend()\n",
    "plt.hist(delta_list, bins = 40)\n",
    "plt.xticks(np.arange(np.min(delta_list).round(4), np.max(delta_list).round(4), step=0.0003))\n",
    "plt.ylabel('Observations')\n",
    "plt.xlabel('Delta')\n",
    "plt.title('Delta of digital option (log method)')\n",
    "plt.show()"
   ]
  },
  {
   "cell_type": "markdown",
   "metadata": {},
   "source": [
    "# Part 3: Variance Reduction"
   ]
  },
  {
   "cell_type": "code",
   "execution_count": 25,
   "metadata": {},
   "outputs": [],
   "source": [
    "import numpy as np\n",
    "import matplotlib.pyplot as plt\n",
    "import math\n",
    "from numba import jit\n",
    "\n",
    "# plot N steps of one possible path\n",
    "#@jit (nopython = True)\n",
    "def asian_option_pathJ(N=100, strike_price=99, stock_price=100, interest_rate=0.06, volatility=0.2, maturity=1):\n",
    "    # trials are #iterations of monte carlo\n",
    "    Si = np.zeros(N + 1)\n",
    "    Si[0] = stock_price\n",
    "    \n",
    "    for i in range(N):\n",
    "    \n",
    "        Si[i+1] = one_step_stockJ(Si[i], interest_rate, volatility, maturity/N, np.random.normal())\n",
    "    \n",
    "    #return asian option based on geo\n",
    "    return geo_option(Si, N, strike_price, interest_rate) #np.prod(Si[1:])**(1/(N)) #geo_option(Si, N, strike_price, interest_rate)\n",
    "\n",
    "#@jit (nopython = True)\n",
    "def geo_option(Si, N, strike_price, interest_rate):\n",
    "    print(Si)\n",
    "    print(np.prod(Si[1:])**(1/(N)))\n",
    "    print()\n",
    "    if (np.prod(Si[1:]))**(1/(N)) - strike_price > 0:\n",
    "        return (np.prod(Si[1:])**(1/(N)) - strike_price) * math.exp(-interest_rate)\n",
    "    else:\n",
    "        return 0\n",
    "\n",
    "#@jit (nopython = True)\n",
    "def arit_option(Si, N, strike_price, interest_rate):\n",
    "    if np.sum(Si[1:])*(1/(N)) - strike_price < 0:\n",
    "        return (strike_price -np.sum(Si[1:])*(1/(N)) ) * math.exp(-interest_rate)\n",
    "    else:\n",
    "        return 0\n",
    "\n",
    "#@jit (nopython = True)  \n",
    "def one_step_stockJ(stock_price, interest_rate, volatility, maturity, Z):\n",
    "    return stock_price * math.exp((interest_rate - 0.5 * volatility ** 2) * maturity + volatility * math.sqrt(maturity) * Z)\n",
    "\n",
    "#@jit (nopython = True)  \n",
    "def iters(sims = 1):\n",
    "    option_means = []\n",
    "    for _ in range(sims):\n",
    "        asian_call = []\n",
    "        for _ in range(sims):\n",
    "            asian_call.append(asian_option_pathJ())\n",
    "        option_means.append(np.mean(np.array(asian_call)))\n",
    "    return option_means"
   ]
  },
  {
   "cell_type": "code",
   "execution_count": 26,
   "metadata": {},
   "outputs": [
    {
     "name": "stdout",
     "output_type": "stream",
     "text": [
      "[100.         103.42866013 104.24163974 102.33814442  99.82947363\n",
      " 101.96695971 105.56544621 104.64276439 105.91023987 103.05368405\n",
      " 101.21435397 102.84235093 102.69592301 101.97060071 105.6544888\n",
      " 105.01445382 102.88852908 106.67916672 106.03968332 107.03238964\n",
      " 107.44324009 107.07742295 106.57480482 101.45037216 102.38409168\n",
      " 101.02825116 100.73040742 105.98292982 107.28073334 105.44614534\n",
      " 104.50759533 104.91756455 103.95004954 102.52979716 103.4684177\n",
      " 100.63269572 103.64348958 101.84744884 100.68455476 105.44567347\n",
      " 108.18161134 108.3653822  108.70198332 108.15013491 103.04701187\n",
      " 101.84303416 100.11430493  97.50135675  92.57301555  94.75471219\n",
      "  93.6601522   93.47575783  94.18578158  93.13617633  94.22635441\n",
      "  96.95786229 100.14754661  99.49835395 104.25697658 104.50734543\n",
      " 105.61269004 104.02697407 106.91998583 109.13863556 110.79747972\n",
      " 114.859821   113.80376139 111.61136972 107.80185345 107.13698786\n",
      " 104.8614019  102.90067114 101.09805498  99.22645927  97.96192662\n",
      "  99.15361217 100.49444095 100.3471894  103.47047139 103.24023877\n",
      " 102.20712872 105.01515828 104.9255307  108.53429763 108.81479837\n",
      " 105.60741963 105.44406649 104.7989703  106.93681213 105.48466356\n",
      " 101.79472188 103.01076912 102.72631635 100.6553234  102.75604934\n",
      " 105.32121029 105.75515748 106.58679296 107.04839374 104.74151241\n",
      " 101.77273689]\n",
      "103.43233953209294\n",
      "\n"
     ]
    },
    {
     "data": {
      "image/png": "[encoded data removed]",
      "text/plain": [
       "<Figure size 432x288 with 1 Axes>"
      ]
     },
     "metadata": {},
     "output_type": "display_data"
    },
    {
     "name": "stdout",
     "output_type": "stream",
     "text": [
      "4.174220172128535\n"
     ]
    }
   ],
   "source": [
    "listoptions = iters()\n",
    "plt.hist(listoptions)\n",
    "plt.show()\n",
    "print(np.mean(listoptions))"
   ]
  },
  {
   "cell_type": "code",
   "execution_count": null,
   "metadata": {},
   "outputs": [],
   "source": [
    "def analytic_solution(start_price = 100, T = 1, N = 100, r = 0.06, sigma = 0.2):\n",
    "    mu = (r - 0.5 * sigma**2) * (N + 1) / (2 * N) * T\n",
    "    sig = sigma**2 * ((N + 1) * (2 * N + 1) / (6 * N**2) * T)\n",
    "    return  start_price * math.exp(mu + sig**2/2)\n",
    "    "
   ]
  },
  {
   "cell_type": "code",
   "execution_count": null,
   "metadata": {},
   "outputs": [],
   "source": [
    "plt.hist(option_means)\n",
    "plt.show()\n",
    "print(np.mean(option_means))"
   ]
  },
  {
   "cell_type": "code",
   "execution_count": null,
   "metadata": {},
   "outputs": [],
   "source": []
  },
  {
   "cell_type": "code",
   "execution_count": null,
   "metadata": {},
   "outputs": [],
   "source": []
  },
  {
   "cell_type": "code",
   "execution_count": null,
   "metadata": {},
   "outputs": [],
   "source": []
  },
  {
   "cell_type": "code",
   "execution_count": null,
   "metadata": {},
   "outputs": [],
   "source": [
    "np.max(-100, 0)"
   ]
  },
  {
   "cell_type": "code",
   "execution_count": 34,
   "metadata": {},
   "outputs": [
    {
     "name": "stdout",
     "output_type": "stream",
     "text": [
      "103.43233953274516\n"
     ]
    }
   ],
   "source": [
    "A = [100.        , 103.42866013, 104.24163974, 102.33814442,  99.82947363,\n",
    " 101.96695971, 105.56544621, 104.64276439, 105.91023987, 103.05368405,\n",
    " 101.21435397, 102.84235093, 102.69592301, 101.97060071, 105.6544888,\n",
    " 105.01445382, 102.88852908, 106.67916672, 106.03968332, 107.03238964,\n",
    " 107.44324009, 107.07742295, 106.57480482, 101.45037216, 102.38409168,\n",
    " 101.02825116, 100.73040742, 105.98292982, 107.28073334, 105.44614534,\n",
    " 104.50759533, 104.91756455, 103.95004954, 102.52979716, 103.4684177,\n",
    " 100.63269572, 103.64348958, 101.84744884, 100.68455476, 105.44567347,\n",
    " 108.18161134, 108.3653822 , 108.70198332, 108.15013491, 103.04701187,\n",
    " 101.84303416, 100.11430493,  97.50135675,  92.57301555,  94.75471219,\n",
    "  93.6601522 ,  93.47575783,  94.18578158,  93.13617633,  94.22635441,\n",
    "  96.95786229, 100.14754661,  99.49835395, 104.25697658, 104.50734543,\n",
    " 105.61269004, 104.02697407, 106.91998583, 109.13863556, 110.79747972,\n",
    " 114.859821  , 113.80376139, 111.61136972, 107.80185345, 107.13698786,\n",
    " 104.8614019 , 102.90067114, 101.09805498,  99.22645927,  97.96192662,\n",
    "  99.15361217, 100.49444095, 100.3471894 , 103.47047139, 103.24023877,\n",
    " 102.20712872, 105.01515828, 104.9255307 , 108.53429763, 108.81479837,\n",
    " 105.60741963, 105.44406649, 104.7989703 , 106.93681213, 105.48466356,\n",
    " 101.79472188, 103.01076912, 102.72631635, 100.6553234 , 102.75604934,\n",
    " 105.32121029, 105.75515748, 106.58679296, 107.04839374, 104.74151241,\n",
    " 101.77273689]\n",
    "\n",
    "prod = 1\n",
    "for i in range(len(A[1:])):\n",
    "    prod *= A[i + 1]**(1/len(A[1:]))\n",
    "print(prod)"
   ]
  },
  {
   "cell_type": "code",
   "execution_count": null,
   "metadata": {},
   "outputs": [],
   "source": []
  },
  {
   "cell_type": "code",
   "execution_count": null,
   "metadata": {},
   "outputs": [],
   "source": []
  }
 ],
 "metadata": {
  "kernelspec": {
   "display_name": "Python 3",
   "language": "python",
   "name": "python3"
  },
  "language_info": {
   "codemirror_mode": {
    "name": "ipython",
    "version": 3
   },
   "file_extension": ".py",
   "mimetype": "text/x-python",
   "name": "python",
   "nbconvert_exporter": "python",
   "pygments_lexer": "ipython3",
   "version": "3.6.5"
  }
 },
 "nbformat": 4,
 "nbformat_minor": 2
}
