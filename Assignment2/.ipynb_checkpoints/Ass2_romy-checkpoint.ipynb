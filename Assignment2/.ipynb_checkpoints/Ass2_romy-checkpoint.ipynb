{
 "cells": [
  {
   "cell_type": "code",
   "execution_count": 1,
   "metadata": {},
   "outputs": [],
   "source": [
    "# Staat helemaal bovenin assignment onder part 1\n",
    "import numpy as np\n",
    "import matplotlib.pyplot as plt\n",
    "import math\n",
    "import time\n",
    "import random\n",
    "\n",
    "from scipy.stats import norm\n",
    "from numba import jit\n",
    "from scipy import stats"
   ]
  },
  {
   "cell_type": "markdown",
   "metadata": {},
   "source": [
    "# Part 2: Estimation of Sensitivities in MC"
   ]
  },
  {
   "cell_type": "markdown",
   "metadata": {},
   "source": [
    "## 1) Bump-and-revalue method."
   ]
  },
  {
   "cell_type": "code",
   "execution_count": 38,
   "metadata": {},
   "outputs": [],
   "source": [
    "@jit (nopython = True)\n",
    "def one_step_stock(stock_price, interest_rate, volatility, maturity, Z):\n",
    "#     np.random.seed(5)\n",
    "    return stock_price * math.exp((interest_rate - 0.5 * volatility ** 2) * maturity + volatility * math.sqrt(maturity) * Z)\n",
    "\n",
    "@jit (nopython = True)\n",
    "def monte_carlo_option(trials, strike_price, stock_price, interest_rate, volatility, maturity, randomness):\n",
    "    # trials are #iterations of monte carlo\n",
    "    monte_results = []\n",
    "    for i in range(trials):\n",
    "        current_monte = one_step_stock(stock_price, interest_rate, volatility, maturity, randomness[i])\n",
    "        if current_monte - strike_price < 0:\n",
    "            monte_results.append((strike_price - current_monte)/ (1 + interest_rate))\n",
    "        else:\n",
    "            monte_results.append(0)\n",
    "        \n",
    "    return monte_results "
   ]
  },
  {
   "cell_type": "code",
   "execution_count": 59,
   "metadata": {},
   "outputs": [],
   "source": [
    "@jit (nopython = True)\n",
    "def iters(sims):\n",
    "    lege = [] \n",
    "    T = 1\n",
    "    K = 99\n",
    "    r = 0.06\n",
    "    S0 = 100 \n",
    "    sigma = 0.2\n",
    "    randomness =  np.random.normal(size=int(100000))\n",
    "    for i in range(100000):\n",
    "        iets = monte_carlo_option(100000, K, S0, r, sigma, T, randomness)\n",
    "        lege.append(iets)\n",
    "    return np.mean(lege)\n"
   ]
  },
  {
   "cell_type": "code",
   "execution_count": null,
   "metadata": {},
   "outputs": [],
   "source": [
    "# lege = [] \n",
    "# T = 1\n",
    "# K = 99\n",
    "# r = 0.06\n",
    "# S0 = 100 \n",
    "# sigma = 0.2\n",
    "# randomness =  np.random.normal(size=10000)\n",
    "# for i in range(10000):\n",
    "#     iets = monte_carlo_option(10000, K, S0, r, sigma, T, randomness)\n",
    "#     lege.append(iets)\n",
    "\n",
    "# print(np.mean(lege))\n",
    "\n",
    "print(iters(10000))"
   ]
  },
  {
   "cell_type": "code",
   "execution_count": 39,
   "metadata": {},
   "outputs": [],
   "source": [
    "def experiment(epsilon, randommess, trials ): #= 1000\n",
    "    ''' The Monte Carlo method.'''\n",
    "    T = 1\n",
    "    K = 99\n",
    "    r = 0.06\n",
    "    S0 = 100 + epsilon\n",
    "    sigma = 0.2\n",
    "\n",
    "#     time0 = time.time()\n",
    "\n",
    "    monte_total = []\n",
    "    iters = trials #= 1000\n",
    "    for i in range(iters):\n",
    "        monte_results = monte_carlo_option(trials, K, S0, r, sigma, T, randommess)\n",
    "        # print(time.time() - time0)\n",
    "\n",
    "        # Mean \n",
    "        monte_mean = np.mean(monte_results)\n",
    "        monte_total.append(monte_mean)\n",
    "\n",
    "    return monte_total"
   ]
  },
  {
   "cell_type": "code",
   "execution_count": 40,
   "metadata": {},
   "outputs": [],
   "source": [
    "def euler(epsilon, trials, randommess, sameseed): #    randommess = np.random.normal(size=1000), sameseed = True\n",
    "    bumped = np.mean(experiment(epsilon, randommess, trials))\n",
    "    if not sameseed:\n",
    "        randommess = np.random.normal(size=number_of_trials)\n",
    "    unbumped = np.mean(experiment(0, randommess, trials))\n",
    "    \n",
    "    delta = (bumped - unbumped) / epsilon\n",
    "    return delta"
   ]
  },
  {
   "cell_type": "code",
   "execution_count": 41,
   "metadata": {},
   "outputs": [],
   "source": [
    "''' The analytical delta. '''\n",
    "def analytical_delta(current_stock_price, strike_price, interest_rate, volatility, T, t, steps):\n",
    "    d1 = (math.log(current_stock_price / strike_price) + (interest_rate + (volatility ** 2) / 2) * T) / (volatility * math.sqrt(T))\n",
    "    return norm.cdf(d1) "
   ]
  },
  {
   "cell_type": "code",
   "execution_count": 44,
   "metadata": {},
   "outputs": [],
   "source": [
    "\"\"\" Relative error in percentage. \"\"\"\n",
    "def relative_error(true_value, approx_value):\n",
    "    return abs(((true_value - approx_value) / true_value) * 100)"
   ]
  },
  {
   "cell_type": "code",
   "execution_count": 45,
   "metadata": {},
   "outputs": [
    {
     "name": "stdout",
     "output_type": "stream",
     "text": [
      "check -0.326265 -0.3262644882651039\n",
      "difference 5.117348961247714e-07\n",
      "analytical value: -0.326265\n",
      "calculated value -0.3250724932886584\n",
      "Error 0.3655024937831622\n"
     ]
    }
   ],
   "source": [
    "\"\"\" Relative error is shown with analytical value as reference. \"\"\"\n",
    "\n",
    "# The analytical value\n",
    "# analytical_value = -0.326265\n",
    "T = 1\n",
    "K = 99\n",
    "r = 0.06\n",
    "S0 = 100 \n",
    "sigma = 0.2\n",
    "\n",
    "steps = 100\n",
    "t = 0\n",
    "check_analytical_value = analytical_delta(S0, K, r, sigma, T, t, steps) - 1\n",
    "diff = abs(analytical_value - check_analytical_value)\n",
    "print('check', analytical_value, check_analytical_value)\n",
    "print('difference', diff)\n",
    "\n",
    "\n",
    "# The approximate value \n",
    "# number_of_trials = int(10000) #1e4\n",
    "# randommess = np.random.normal(size= number_of_trials)\n",
    "# dif_delta4_1 = euler(0.01, trials = number_of_trials, randommess = randommess, sameseed=False) #1e-2\n",
    "\n",
    "number_of_trials = int(1e4)\n",
    "randommess = np.random.normal(size=number_of_trials)\n",
    "same_delta4_1 = euler(1e-2, trials = number_of_trials, randommess = randommess, sameseed=True)\n",
    "\n",
    "# print\n",
    "print('analytical value:', analytical_value)\n",
    "print('calculated value', same_delta4_1)\n",
    "error = relative_error(analytical_value, same_delta4_1)\n",
    "print('Error', error)"
   ]
  },
  {
   "cell_type": "code",
   "execution_count": null,
   "metadata": {},
   "outputs": [],
   "source": []
  },
  {
   "cell_type": "code",
   "execution_count": null,
   "metadata": {},
   "outputs": [],
   "source": []
  },
  {
   "cell_type": "code",
   "execution_count": null,
   "metadata": {},
   "outputs": [],
   "source": []
  },
  {
   "cell_type": "code",
   "execution_count": null,
   "metadata": {},
   "outputs": [],
   "source": [
    "# \"\"\" Compute deltas for different seeds\n",
    "#     with epsilon 0.01, 0.02, 0.5. \"\"\"\n",
    "\n",
    "# # Size 10^4\n",
    "# number_of_trials = int(1e4)\n",
    "# randommess = np.random.normal(size= number_of_trials)\n",
    "# dif_delta4_1 = euler(1e-2, trials = number_of_trials, randommess = randommess, sameseed=False)\n",
    "# dif_delta4_2 = euler(2e-2, trials = number_of_trials, randommess = randommess, sameseed=False)\n",
    "# dif_delta4_5 = euler(5e-1, trials = number_of_trials, randommess = randommess, sameseed=False)\n",
    "\n",
    "# # Size 10^5\n",
    "# number_of_trials = int(1e5)\n",
    "# randommess = np.random.normal(size=number_of_trials)\n",
    "# dif_delta5_1 = euler(1e-2, trials = number_of_trials, randommess = randommess, sameseed=False)\n",
    "# dif_delta5_2 = euler(2e-2, trials = number_of_trials, randommess = randommess, sameseed=False)\n",
    "# dif_delta5_5 = euler(5e-1, trials = number_of_trials, randommess = randommess, sameseed=False)\n",
    "\n",
    "# # Size 10^6\n",
    "# number_of_trials = int(1e6)\n",
    "# randommess = np.random.normal(size=number_of_trials)\n",
    "# dif_delta6_1 = euler(1e-2, trials = number_of_trials, randommess = randommess, sameseed=False)\n",
    "# dif_delta6_2 = euler(2e-2, trials = number_of_trials, randommess = randommess, sameseed=False)\n",
    "# dif_delta6_5 = euler(5e-1, trials = number_of_trials, randommess = randommess, sameseed=False)\n",
    "\n",
    "# # Size 10^7\n",
    "# number_of_trials = int(1e7)\n",
    "# randommess = np.random.normal(size=number_of_trials)\n",
    "# dif_delta7_1 = euler(1e-2, trials = number_of_trials, randommess = randommess, sameseed=False)\n",
    "# dif_delta7_2 = euler(2e-2, trials = number_of_trials, randommess = randommess, sameseed=False)\n",
    "# dif_delta7_5 = euler(5e-1, trials = number_of_trials, randommess = randommess, sameseed=False)"
   ]
  },
  {
   "cell_type": "code",
   "execution_count": null,
   "metadata": {},
   "outputs": [],
   "source": [
    "# \"\"\" Compute deltas for same seed \n",
    "#     with epsilon 0.01, 0.02, 0.5. \"\"\"\n",
    "\n",
    "# # Size 10^4\n",
    "# number_of_trials = int(1e4)\n",
    "# randommess = np.random.normal(size=number_of_trials)\n",
    "# same_delta4_1 = euler(1e-2, trials = number_of_trials, randommess = randommess, sameseed=True)\n",
    "# same_delta4_2 = euler(2e-2, trials = number_of_trials, randommess = randommess, sameseed=True)\n",
    "# same_delta4_5 = euler(5e-1, trials = number_of_trials, randommess = randommess, sameseed=True)\n",
    "\n",
    "# # Size 10^5\n",
    "# number_of_trials = int(1e5)\n",
    "# randommess = np.random.normal(size=number_of_trials)\n",
    "# same_delta5_1 = euler(1e-2, trials = number_of_trials, randommess = randommess, sameseed=True)\n",
    "# same_delta5_2 = euler(2e-2, trials = number_of_trials, randommess = randommess, sameseed=True)\n",
    "# same_delta5_5 = euler(5e-1, trials = number_of_trials, randommess = randommess, sameseed=True)\n",
    "\n",
    "# # Size 10^6\n",
    "# number_of_trials = int(1e6)\n",
    "# randommess = np.random.normal(size=number_of_trials)\n",
    "# same_delta6_1 = euler(1e-2, trials = number_of_trials, randommess = randommess, sameseed=True)\n",
    "# same_delta6_2 = euler(2e-2, trials = number_of_trials, randommess = randommess, sameseed=True)\n",
    "# same_delta6_5 = euler(5e-1, trials = number_of_trials, randommess = randommess, sameseed=True)\n",
    "\n",
    "# # Size 10^7\n",
    "# number_of_trials = int(1e7)\n",
    "# randommess = np.random.normal(size=number_of_trials)\n",
    "# same_delta7_1 = euler(1e-2, trials = number_of_trials, randommess = randommess, sameseed=True)\n",
    "# same_delta7_2 = euler(2e-2, trials = number_of_trials, randommess = randommess, sameseed=True)\n",
    "# same_delta7_5 = euler(5e-1, trials = number_of_trials, randommess = randommess, sameseed=True)"
   ]
  },
  {
   "cell_type": "code",
   "execution_count": null,
   "metadata": {},
   "outputs": [],
   "source": []
  }
 ],
 "metadata": {
  "kernelspec": {
   "display_name": "Python 3",
   "language": "python",
   "name": "python3"
  },
  "language_info": {
   "codemirror_mode": {
    "name": "ipython",
    "version": 3
   },
   "file_extension": ".py",
   "mimetype": "text/x-python",
   "name": "python",
   "nbconvert_exporter": "python",
   "pygments_lexer": "ipython3",
   "version": "3.6.6"
  }
 },
 "nbformat": 4,
 "nbformat_minor": 2
}
