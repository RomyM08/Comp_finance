{
 "cells": [
  {
   "cell_type": "code",
   "execution_count": 1,
   "metadata": {},
   "outputs": [],
   "source": [
    "import numpy as np\n",
    "import math\n",
    "from matplotlib import colors\n"
   ]
  },
  {
   "cell_type": "code",
   "execution_count": 2,
   "metadata": {},
   "outputs": [],
   "source": [
    "\"\"\" Initial conditions. \"\"\"\n",
    "interest_rate = 0.04\n",
    "volatility = 0.3\n",
    "S_0 = 100\n",
    "strike_price = 110\n",
    "\n",
    "maturity = 1\n",
    "delta_t = 0.01\n",
    "\n",
    "\n",
    "delta_x = 1\n",
    "Vmax = 60#strike_price#N * delta_x-strike_price * math.exp(-interest_rate * maturity)\n",
    "V_0=9.6253\n",
    "\n",
    "\n",
    "M_low = 0\n",
    "M_high = math.ceil(Vmax/delta_x)\n",
    "\n",
    "vec_orig = np.zeros(M_high)\n",
    "for i in range(M_high):\n",
    "    if i * delta_x > V_0 - 0.5 *delta_x:\n",
    "        vec_orig[i] = 1\n",
    "        break\n",
    "\n",
    "timemat = []\n",
    "\n"
   ]
  },
  {
   "cell_type": "code",
   "execution_count": 3,
   "metadata": {},
   "outputs": [],
   "source": [
    "\"\"\"The simplified terms\"\"\"\n",
    "alpha = (interest_rate - (1/2) * volatility ** 2) * (delta_t / (2 * delta_x))\n",
    "beta = ((1 / 2) * volatility ** 2) * (delta_t / (delta_x ** 2))\n",
    "gamma = interest_rate * delta_t"
   ]
  },
  {
   "cell_type": "code",
   "execution_count": 4,
   "metadata": {},
   "outputs": [],
   "source": [
    "\"\"\" The FTCS scheme\"\"\"\n",
    "a_prev = -alpha + beta\n",
    "a_cur = 1 - 2 * beta -gamma\n",
    "a_next = alpha + beta\n",
    "b_prev = 0\n",
    "b_cur = 1\n",
    "b_next =0\n",
    "\n"
   ]
  },
  {
   "cell_type": "code",
   "execution_count": 307,
   "metadata": {},
   "outputs": [],
   "source": [
    "\"\"\" CHECK EUROPEAN CALL\"\"\"\n",
    "import copy\n",
    "\n",
    "N = M_high\n",
    "\n",
    "\n",
    "A = np.zeros((N,N))\n",
    "B = np.zeros((N,N))\n",
    "\n",
    "for i in range(N):\n",
    "    for j in range(N):\n",
    "            \n",
    "        if i == j:\n",
    "            A[i][j] = a_cur\n",
    "            B[i][j] = b_cur\n",
    "            if j < N-1:\n",
    "                A[i][(j + 1)] = a_next\n",
    "                B[i][(j + 1)] = b_next\n",
    "            if j > 0:\n",
    "                A[i][(j - 1)%N] = a_prev          \n",
    "                B[i][(j - 1)%N] = b_prev\n",
    "        \n",
    "        \n",
    "# print(A)\n",
    "\n",
    "t = 0.01\n",
    "\n",
    "Vn = vec_orig.copy()\n",
    "maxVN = sum(Vn)\n",
    "for i in range(len(Vn)):\n",
    "    Vn[i] = Vn[i]/maxVN*100\n",
    "mat_time = [Vn]\n",
    "for iteration in range(100000):\n",
    "    Vn = np.dot(A, Vn)\n",
    "    if iteration % 1000 == 0:\n",
    "        maxVN = sum(Vn)\n",
    "        for i in range(len(Vn)):\n",
    "            Vn[i] = Vn[i]/maxVN*100\n",
    "        mat_time.append(Vn.copy())\n",
    "# print(np.sum(Vn))"
   ]
  },
  {
   "cell_type": "code",
   "execution_count": 308,
   "metadata": {},
   "outputs": [
    {
     "data": {
      "text/plain": [
       "100.0"
      ]
     },
     "execution_count": 308,
     "metadata": {},
     "output_type": "execute_result"
    }
   ],
   "source": [
    "sum(mat_time[2])"
   ]
  },
  {
   "cell_type": "code",
   "execution_count": 309,
   "metadata": {},
   "outputs": [
    {
     "data": {
      "text/plain": [
       "100.0"
      ]
     },
     "execution_count": 309,
     "metadata": {},
     "output_type": "execute_result"
    }
   ],
   "source": [
    "sum(mat_time[-1])"
   ]
  },
  {
   "cell_type": "code",
   "execution_count": 310,
   "metadata": {},
   "outputs": [
    {
     "data": {
      "image/png": "[encoded data removed]",
      "text/plain": [
       "<matplotlib.figure.Figure at 0x8b74d50>"
      ]
     },
     "metadata": {},
     "output_type": "display_data"
    }
   ],
   "source": [
    "%matplotlib inline\n",
    "import matplotlib.pyplot as plt\n",
    "norm = colors.Normalize(vmin = 0, vmax = 50)\n",
    "\n",
    "plt.imshow(np.transpose(mat_time), cmap = 'hot', interpolation = 'bicubic', norm = norm)\n",
    "plt.show()"
   ]
  },
  {
   "cell_type": "code",
   "execution_count": null,
   "metadata": {},
   "outputs": [],
   "source": []
  },
  {
   "cell_type": "markdown",
   "metadata": {},
   "source": [
    "## Crank Nicolson"
   ]
  },
  {
   "cell_type": "code",
   "execution_count": 311,
   "metadata": {},
   "outputs": [],
   "source": [
    "\"\"\" The Crank-Nicolson scheme\"\"\"\n",
    "a_prev = (1/2) * -alpha + (1/2) * beta\n",
    "a_cur = 1 - beta - (1/2) * gamma\n",
    "a_next = (1/2) * alpha + (1/2) * beta\n",
    "b_prev = (1/2) * alpha - (1/2) * beta\n",
    "b_cur = 1 + beta + (1/2) * gamma\n",
    "b_next = -(1/2) * alpha - (1/2) * beta\n",
    "\n"
   ]
  },
  {
   "cell_type": "code",
   "execution_count": 312,
   "metadata": {},
   "outputs": [],
   "source": [
    "\"\"\" CHECK EUROPEAN CALL\"\"\"\n",
    "import copy\n",
    "\n",
    "N = M_high\n",
    "\n",
    "\n",
    "A = np.zeros((N,N))\n",
    "B = np.zeros((N,N))\n",
    "\n",
    "for i in range(N):\n",
    "    for j in range(N):\n",
    "            \n",
    "        if i == j:\n",
    "            A[i][j] = a_cur\n",
    "            B[i][j] = b_cur\n",
    "            if j < N-1:\n",
    "                A[i][(j + 1)] = a_next\n",
    "                B[i][(j + 1)] = b_next\n",
    "            if j > 0:\n",
    "                A[i][(j - 1)%N] = a_prev          \n",
    "                B[i][(j - 1)%N] = b_prev\n",
    "        \n",
    "        \n",
    "# print(A)\n",
    "\n",
    "t = 0.01\n",
    "\n",
    "B_inv = np.linalg.inv(B)\n",
    "\n",
    "Vn = vec_orig.copy()\n",
    "maxVN = max(Vn)\n",
    "for i in range(len(Vn)):\n",
    "    Vn[i] = Vn[i]/maxVN*100\n",
    "mat_time = [Vn]\n",
    "for iteration in range(100000):\n",
    "    Vn = np.dot(A, Vn)\n",
    "    Vn = np.dot(B_inv, Vn)\n",
    "    if iteration % 1000 == 0:\n",
    "        maxVN = max(Vn)\n",
    "        for i in range(len(Vn)):\n",
    "            Vn[i] = Vn[i]/maxVN*100\n",
    "        mat_time.append(Vn.copy())\n",
    "# print(np.sum(Vn))"
   ]
  },
  {
   "cell_type": "code",
   "execution_count": 313,
   "metadata": {},
   "outputs": [
    {
     "data": {
      "image/png": "[encoded data removed]",
      "text/plain": [
       "<matplotlib.figure.Figure at 0x10e29e50>"
      ]
     },
     "metadata": {},
     "output_type": "display_data"
    }
   ],
   "source": [
    "%matplotlib inline\n",
    "import matplotlib.pyplot as plt\n",
    "\n",
    "plt.imshow(np.transpose(mat_time), cmap = 'hot', interpolation = 'bicubic')\n",
    "plt.show()"
   ]
  },
  {
   "cell_type": "code",
   "execution_count": 314,
   "metadata": {},
   "outputs": [
    {
     "data": {
      "text/plain": [
       "2115.020486415108"
      ]
     },
     "execution_count": 314,
     "metadata": {},
     "output_type": "execute_result"
    }
   ],
   "source": [
    "sum(mat_time[-1])"
   ]
  },
  {
   "cell_type": "code",
   "execution_count": null,
   "metadata": {},
   "outputs": [],
   "source": []
  }
 ],
 "metadata": {
  "kernelspec": {
   "display_name": "Python 3",
   "language": "python",
   "name": "python3"
  },
  "language_info": {
   "codemirror_mode": {
    "name": "ipython",
    "version": 3
   },
   "file_extension": ".py",
   "mimetype": "text/x-python",
   "name": "python",
   "nbconvert_exporter": "python",
   "pygments_lexer": "ipython3",
   "version": "3.6.6"
  }
 },
 "nbformat": 4,
 "nbformat_minor": 2
}
