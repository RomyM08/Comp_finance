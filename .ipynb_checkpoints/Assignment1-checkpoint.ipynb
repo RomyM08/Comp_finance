{
 "cells": [
  {
   "cell_type": "markdown",
   "metadata": {},
   "source": [
    "# Part 1: Option Valuation"
   ]
  },
  {
   "cell_type": "markdown",
   "metadata": {},
   "source": [
    "## Ex. 1: Binomial tree program to approximate the price of the option. \n",
    "How does your estimate compare to the analytical value? <br>\n",
    "Experiment for different values of the volatility"
   ]
  },
  {
   "cell_type": "code",
   "execution_count": 20,
   "metadata": {},
   "outputs": [],
   "source": [
    "import math\n",
    "from scipy.stats import norm\n",
    "\n",
    "stock_price = 100.\n",
    "strike_price = 99.0\n",
    "interest_rate = 0.06\n",
    "volatility = 0.2\n",
    "steps = 50\n",
    "T = 1 # maturity time in years\n",
    "\n",
    "u = math.exp(volatility * math.sqrt(1/steps))\n",
    "d = math.exp(-volatility * math.sqrt(1/steps))\n",
    "a = math.exp(interest_rate * 1/steps)\n",
    "p = (a - d) / (u - d)\n",
    "\n",
    "\n",
    "''' The bionomial tree. ''' \n",
    "def binomial_tree(steps, start):\n",
    "    ''' Binomial tree to approximate the price of the option. ''' \n",
    "    # Result includes stock price [0], option price [1], delta [2]\n",
    "    results = [[[start, 0, 0]]]\n",
    "    \n",
    "    for i in range(steps): \n",
    "        result = []\n",
    "        for j in range(len(results[-1])):\n",
    "            # calculate the stock price [0]\n",
    "            if j == 0:\n",
    "                result.append([results[-1][j][0] * d, 0, 0])\n",
    "            result.append([results[-1][j][0] * u, 0, 0])\n",
    "        results.append(result)  \n",
    "   \n",
    "    return results\n",
    "\n",
    "\n",
    "''' Approximate value with the european price call. ''' \n",
    "def call_option(S, K):\n",
    "    ''' Calculates the value of a call option at its expiration date. '''\n",
    "    return max(0, S - K)\n",
    "\n",
    "def risk_neutral_valuation(r, dt, fi, fj, p): \n",
    "    ''' Risk-neutral valuation of the option. '''\n",
    "    return math.exp(-r * dt) * (p * fi + (1 - p)*fj)\n",
    "\n",
    "def price_EU_call(treelist, strike_price, p):\n",
    "    ''' The price of the European call. '''\n",
    "    lentree = len(treelist)\n",
    "    \n",
    "    # calculate the option prices [1]\n",
    "    for el in treelist[-1]:\n",
    "        el[1] = call_option(el[0], strike_price)\n",
    "        \n",
    "    # calculate risk neutral valuation: back in time [1]\n",
    "    for i in range(len(treelist) - 2, -1, -1): # i is time\n",
    "        for j in range(len(treelist[i])): # j is ????\n",
    "            treelist[i][j][1] = risk_neutral_valuation(interest_rate, 1/steps, treelist[i+1][j+1][1], treelist[i+1][j][1], p)\n",
    "   \n",
    "    return treelist\n",
    "\n",
    "\n",
    "'''Analytical value'''\n",
    "def black_scholes(stock_price, strike_price, interest_rate, volatility, T):\n",
    "    d1 = (math.log(stock_price / strike_price) + (interest_rate + (volatility ** 2) / 2) * T) / (volatility * math.sqrt(T))\n",
    "    #d2 = d1 - volatility* math.sqrt(T)\n",
    "    d2 = (math.log(stock_price / strike_price) + (interest_rate - (volatility ** 2) / 2) * T) / (volatility * math.sqrt(T))\n",
    "   \n",
    "    call = stock_price * norm.cdf(d1) - strike_price * math.exp(- interest_rate * T) * norm.cdf(d2)\n",
    "    put = strike_price * math.exp(-interest_rate * T ) * norm.cdf(-d2) - stock_price * norm.cdf(-d1)\n",
    "\n",
    "    return call, put"
   ]
  },
  {
   "cell_type": "code",
   "execution_count": 21,
   "metadata": {},
   "outputs": [
    {
     "name": "stdout",
     "output_type": "stream",
     "text": [
      "The estimated price of the option: 11.546434850755034\n",
      "The analytical price of the option: 11.544280227051097\n"
     ]
    }
   ],
   "source": [
    "''' The estimate compared to the analytical value '''\n",
    "treelist = binomial_tree(steps, stock_price)\n",
    "filled_tree = price_EU_call(treelist, strike_price, p)\n",
    "\n",
    "#The estimate \n",
    "estimated_price = filled_tree[0][0][1]\n",
    "print('The estimated price of the option:', estimated_price)\n",
    "\n",
    "#The analytical value\n",
    "analytical_call, analytical_put = black_scholes(stock_price, strike_price, interest_rate, volatility, T)\n",
    "print('The analytical price of the option:', analytical_call)\n"
   ]
  },
  {
   "cell_type": "code",
   "execution_count": 134,
   "metadata": {},
   "outputs": [
    {
     "ename": "SyntaxError",
     "evalue": "invalid syntax (<ipython-input-134-3b2fca75fd39>, line 19)",
     "output_type": "error",
     "traceback": [
      "\u001b[1;36m  File \u001b[1;32m\"<ipython-input-134-3b2fca75fd39>\"\u001b[1;36m, line \u001b[1;32m19\u001b[0m\n\u001b[1;33m    plt.title('Approximation of the option price')\u001b[0m\n\u001b[1;37m      ^\u001b[0m\n\u001b[1;31mSyntaxError\u001b[0m\u001b[1;31m:\u001b[0m invalid syntax\n"
     ]
    }
   ],
   "source": [
    "''' Different values of volatility '''\n",
    "import matplotlib.pyplot as plt\n",
    "import numpy as np\n",
    "\n",
    "plt.figure()\n",
    "\n",
    "volatility = np.linspace(0,1,100)\n",
    "\n",
    "for i in volatility: \n",
    "    treelist = binomial_tree(steps, stock_price)\n",
    "    filled_tree = price_EU_call(treelist, strike_price)\n",
    "\n",
    "    # Estimated  and analytical price\n",
    "    estimated_price = filled_tree[0][0][1]  \n",
    "    \n",
    "plt.plot(len(estimated_prices), estimated_price, label ='Estimated price')\n",
    "plt.plot(len(analytical_prices, analytical_price, label ='Analytical price')\n",
    "\n",
    "plt.title('Approximation of the option price')\n",
    "plt.xlabel('Volatility (sigma)')\n",
    "plt.ylabel('Option price')\n",
    "plt.legend(loc = 'best')\n",
    "plt.show()"
   ]
  },
  {
   "cell_type": "code",
   "execution_count": null,
   "metadata": {},
   "outputs": [],
   "source": []
  },
  {
   "cell_type": "markdown",
   "metadata": {},
   "source": [
    "## Ex. 2: Convergence of the method\n",
    "What is the computational complexity of this algorithm? <br>\n",
    "Done"
   ]
  },
  {
   "cell_type": "markdown",
   "metadata": {},
   "source": [
    "## Ex. 3: Hedge parameter\n",
    "Compare with the analytical values. \n",
    "Experiment for different values of the volatility."
   ]
  },
  {
   "cell_type": "code",
   "execution_count": 26,
   "metadata": {},
   "outputs": [],
   "source": [
    "''' The estimation of delta. '''\n",
    "def estimate_delta(treelist):\n",
    "    lentree = len(treelist)\n",
    "    \n",
    "    for i in range(len(treelist) - 2, -1, -1): # i is time\n",
    "        for j in range(len(treelist[i])): # j is ????\n",
    "            treelist[i][j][2] = (treelist[i+1][j+1][1] - treelist[i+1][j][1]) / (treelist[i+1][j+1][0] - treelist[i+1][j][0])\n",
    " \n",
    "    return treelist\n",
    "            \n",
    "#SAME CALCULATIOIN, DIFFERENT METHOD TO ESTIMATE THE DELTA\n",
    "def calc_delta(treelist):\n",
    "    lentree = len(treelist)\n",
    "    for j in range(lentree - 1):\n",
    "        for k in range(len(treelist[-(j+2)])):\n",
    "            treelist[-(j+2)][k][2] = (treelist[-(j+1)][k][1] - treelist[-(j+1)][k+1][1]) / (treelist[-(j+1)][k][0] - treelist[-(j+1)][k+1][0])\n",
    "#             if j == 0 and k ==0:\n",
    "#                 print(treelist[-(j+1)][k][1], treelist[-(j+1)][k+1][1], treelist[-(j+2)][k][1])\n",
    "    return treelist\n",
    "\n",
    "\n",
    "''' The analytical delta. '''\n",
    "def analytical_delta(treelist):\n",
    "    return None "
   ]
  },
  {
   "cell_type": "code",
   "execution_count": 28,
   "metadata": {},
   "outputs": [
    {
     "name": "stdout",
     "output_type": "stream",
     "text": [
      "[[100.0, 11.546434850755034, 0.6725569646047738]]\n",
      "[[100.0, 11.546434850755034, 0.6725569646047738]]\n"
     ]
    }
   ],
   "source": [
    "''' The estimate compared to the analytical value. '''\n",
    "# The estimate \n",
    "estimated_deltas = estimate_delta(filled_tree)\n",
    "print(estimated_deltas[0])\n",
    "\n",
    "b = calc_delta(filled_tree)\n",
    "print(b[0])\n",
    "\n",
    "# The analytical\n"
   ]
  },
  {
   "cell_type": "code",
   "execution_count": null,
   "metadata": {},
   "outputs": [],
   "source": []
  },
  {
   "cell_type": "code",
   "execution_count": null,
   "metadata": {},
   "outputs": [],
   "source": []
  },
  {
   "cell_type": "code",
   "execution_count": null,
   "metadata": {},
   "outputs": [],
   "source": []
  },
  {
   "cell_type": "code",
   "execution_count": null,
   "metadata": {},
   "outputs": [],
   "source": []
  },
  {
   "cell_type": "markdown",
   "metadata": {},
   "source": [
    "## Ex. 4: American option \n",
    "What is the value of the American put and call for the corresponding parameters? <br>\n",
    "Experiment for different values of the volatility."
   ]
  },
  {
   "cell_type": "code",
   "execution_count": 42,
   "metadata": {},
   "outputs": [],
   "source": [
    "''' American call option. ''' \n",
    "def price_US_call(treelist, strike_price, p):\n",
    "    lentree = len(treelist)\n",
    "    for el in treelist[-1]:\n",
    "        el[1] = call_option(el[0], strike_price)\n",
    "        \n",
    "    for i in range(lentree - 1):\n",
    "        for j in range(len(treelist[-(i+2)])):\n",
    "            keeping_value = risk_neutral_valuation(interest_rate, 1/steps, treelist[-(i+1)][j+1][1], treelist[-(i+1)][j][1], p)\n",
    "            use_now_value = call_option(treelist[-(i+2)][j][0], strike_price)\n",
    "            \n",
    "            treelist[-(i+2)][j][1] = max(keeping_value, use_now_value)\n",
    "\n",
    "    return treelist\n",
    "\n",
    "\n",
    "''' American put option. ''' \n",
    "def put_option(S, K ): \n",
    "    ''' Calculates the value of a put option at its expiration date. '''\n",
    "    return max(0, K - S)\n",
    "\n",
    "def price_US_put(treelist, strike_price, p):\n",
    "    lentree = len(treelist)\n",
    "    for el in treelist[-1]:\n",
    "        el[1] = put_option(el[0], strike_price)\n",
    "        \n",
    "    for i in range(lentree - 1):\n",
    "        for j in range(len(treelist[-(i+2)])):\n",
    "            keeping_value = risk_neutral_valuation(interest_rate, 1/steps, treelist[-(i+1)][j+1][1], treelist[-(i+1)][j][1], p)\n",
    "            use_now_value = put_option(treelist[-(i+2)][j][0], strike_price)\n",
    "            \n",
    "            treelist[-(i+2)][j][1] = max(keeping_value, use_now_value)\n",
    "\n",
    "    return treelist\n",
    "    "
   ]
  },
  {
   "cell_type": "code",
   "execution_count": 44,
   "metadata": {},
   "outputs": [
    {
     "name": "stdout",
     "output_type": "stream",
     "text": [
      "5.3477634984176605 5.3477634984176605\n"
     ]
    }
   ],
   "source": [
    "''' The American put and call option. '''\n",
    "treelist = binomial_tree(steps, stock_price)\n",
    "\n",
    "\n",
    "call_US = price_US_call(treelist, strike_price, p)\n",
    "put_US = price_US_put(treelist, strike_price, p)\n",
    "print(call_US[0][0][1], put_US[0][0][1])\n",
    "# print(price_US_call(treelist, strike_price))\n",
    "\n",
    "\n",
    "# #The estimate \n",
    "# estimated_price = filled_tree[0][0][1]\n",
    "# print('The estimated price of the option:', estimated_price)\n",
    "\n",
    "# #The analytical value\n",
    "# analytical_call, analytical_put = black_scholes(stock_price, strike_price, interest_rate, volatility, T)\n",
    "# print('The analytical price of the option:', analytical_call)\n",
    "\n",
    "\n"
   ]
  },
  {
   "cell_type": "code",
   "execution_count": null,
   "metadata": {},
   "outputs": [],
   "source": []
  },
  {
   "cell_type": "markdown",
   "metadata": {},
   "source": [
    "# Part 2: Hedging Simulations"
   ]
  },
  {
   "cell_type": "code",
   "execution_count": null,
   "metadata": {},
   "outputs": [],
   "source": [
    "# T = 1\n",
    "\n",
    "stock_price = 100.0\n",
    "strike_price = 99.0\n",
    "interest_rate = 1.06\n",
    "volatility = 0.20\n",
    "\n",
    "def dynamics_stock_price(r, S, dt, sigma, dZ):\n",
    "    return r*S*dt + sigma * S * dZ\n",
    "\n"
   ]
  },
  {
   "cell_type": "code",
   "execution_count": null,
   "metadata": {},
   "outputs": [],
   "source": []
  },
  {
   "cell_type": "code",
   "execution_count": null,
   "metadata": {},
   "outputs": [],
   "source": []
  },
  {
   "cell_type": "code",
   "execution_count": null,
   "metadata": {},
   "outputs": [],
   "source": []
  }
 ],
 "metadata": {
  "kernelspec": {
   "display_name": "Python 3",
   "language": "python",
   "name": "python3"
  },
  "language_info": {
   "codemirror_mode": {
    "name": "ipython",
    "version": 3
   },
   "file_extension": ".py",
   "mimetype": "text/x-python",
   "name": "python",
   "nbconvert_exporter": "python",
   "pygments_lexer": "ipython3",
   "version": "3.6.6"
  }
 },
 "nbformat": 4,
 "nbformat_minor": 2
}
